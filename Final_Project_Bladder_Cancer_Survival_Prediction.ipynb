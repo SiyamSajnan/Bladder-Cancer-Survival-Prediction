{
  "nbformat": 4,
  "nbformat_minor": 0,
  "metadata": {
    "colab": {
      "provenance": []
    },
    "kernelspec": {
      "name": "python3",
      "display_name": "Python 3"
    },
    "language_info": {
      "name": "python"
    }
  },
  "cells": [
    {
      "cell_type": "markdown",
      "source": [
        "#0. Imports"
      ],
      "metadata": {
        "id": "baLzTkPWn7CC"
      }
    },
    {
      "cell_type": "code",
      "source": [
        "import pandas as pd\n",
        "import numpy as np\n",
        "from sklearn.preprocessing import LabelEncoder\n",
        "\n",
        "import matplotlib.pyplot as plt\n",
        "import plotly.express as px\n",
        "import seaborn as sns\n",
        "\n",
        "from imblearn.under_sampling import RandomUnderSampler\n",
        "from sklearn.model_selection import train_test_split\n",
        "\n",
        "from sklearn.preprocessing import StandardScaler\n",
        "\n",
        "from sklearn.ensemble import RandomForestClassifier\n",
        "from sklearn.ensemble import AdaBoostClassifier\n",
        "from sklearn.svm import SVC\n",
        "from sklearn.neighbors import KNeighborsClassifier\n",
        "import xgboost as xgb\n",
        "from sklearn.ensemble import VotingClassifier\n",
        "\n",
        "from keras.models import Sequential\n",
        "from keras.layers import LSTM, Dense, Dropout\n",
        "from keras.optimizers import Adam\n",
        "from keras.callbacks import EarlyStopping\n",
        "\n",
        "\n",
        "from sklearn.model_selection import GridSearchCV\n",
        "from sklearn.metrics import confusion_matrix\n",
        "from sklearn.model_selection import cross_val_score\n",
        "from sklearn.metrics import classification_report"
      ],
      "metadata": {
        "id": "ZdYZ2rtQRgrL"
      },
      "execution_count": 1,
      "outputs": []
    },
    {
      "cell_type": "markdown",
      "source": [
        "#1. Importing Dataset"
      ],
      "metadata": {
        "id": "gXi2MT1SSfrR"
      }
    },
    {
      "cell_type": "code",
      "execution_count": 2,
      "metadata": {
        "colab": {
          "base_uri": "https://localhost:8080/"
        },
        "id": "Bctf22AsOaj1",
        "outputId": "37ddd702-608d-4495-bd34-d58fa0ba521e"
      },
      "outputs": [
        {
          "output_type": "stream",
          "name": "stdout",
          "text": [
            "Mounted at /content/drive\n"
          ]
        }
      ],
      "source": [
        "from google.colab import drive\n",
        "drive.mount('/content/drive')"
      ]
    },
    {
      "cell_type": "code",
      "source": [
        "data_folder = '/content/drive/My Drive/bladder_cancer_dataset'"
      ],
      "metadata": {
        "id": "0ah_kQlMRPH6"
      },
      "execution_count": 3,
      "outputs": []
    },
    {
      "cell_type": "code",
      "source": [
        "import os\n",
        "data_files = os.listdir(data_folder)\n",
        "\n",
        "bcd = os.path.join(data_folder, 'bcd.csv')"
      ],
      "metadata": {
        "id": "5yOM7kSmRPKi"
      },
      "execution_count": 4,
      "outputs": []
    },
    {
      "cell_type": "code",
      "source": [
        "df = pd.read_csv(bcd)\n",
        "df"
      ],
      "metadata": {
        "colab": {
          "base_uri": "https://localhost:8080/",
          "height": 0
        },
        "id": "fqozSQpORPNQ",
        "outputId": "a7203820-8ffc-4a81-dbda-acf3f86c7496"
      },
      "execution_count": 5,
      "outputs": [
        {
          "output_type": "execute_result",
          "data": {
            "text/plain": [
              "                 Study ID Patient ID          Sample ID  Age at Diagnosis  \\\n",
              "0     paired_bladder_2022  P-0000034  P-0000034-T01-IM3              75.0   \n",
              "1     paired_bladder_2022  P-0000043  P-0000043-T02-IM3              50.0   \n",
              "2     paired_bladder_2022  P-0000056  P-0000056-T01-IM3              57.0   \n",
              "3     paired_bladder_2022  P-0000063  P-0000063-T01-IM3              61.0   \n",
              "4     paired_bladder_2022  P-0000068  P-0000068-T01-IM3              77.0   \n",
              "...                   ...        ...                ...               ...   \n",
              "1654  paired_bladder_2022  P-0015660  s_C_E4UHYD_P001_d               NaN   \n",
              "1655  paired_bladder_2022  P-0033364  s_C_F75LKW_M001_d               NaN   \n",
              "1656  paired_bladder_2022  P-0015663  s_C_F8A03J_M001_d               NaN   \n",
              "1657  paired_bladder_2022  P-0034906  s_C_N0LN75_P001_d               NaN   \n",
              "1658  paired_bladder_2022  P-0015920  s_C_YKYKUT_P001_d               NaN   \n",
              "\n",
              "     Age at Which Sequencing was Reported (Years)  \\\n",
              "0                                              78   \n",
              "1                                              58   \n",
              "2                                              60   \n",
              "3                                              63   \n",
              "4                                              80   \n",
              "...                                           ...   \n",
              "1654                                          NaN   \n",
              "1655                                          NaN   \n",
              "1656                                          NaN   \n",
              "1657                                          NaN   \n",
              "1658                                          NaN   \n",
              "\n",
              "                       Cancer Type          Cancer Type Detailed  \\\n",
              "0                   Bladder Cancer  Bladder Urothelial Carcinoma   \n",
              "1                   Bladder Cancer  Bladder Urothelial Carcinoma   \n",
              "2                   Bladder Cancer  Bladder Urothelial Carcinoma   \n",
              "3                   Bladder Cancer  Bladder Urothelial Carcinoma   \n",
              "4                   Bladder Cancer  Bladder Urothelial Carcinoma   \n",
              "...                            ...                           ...   \n",
              "1654  Bladder/Urinary Tract Cancer         Bladder/Urinary Tract   \n",
              "1655  Bladder/Urinary Tract Cancer         Bladder/Urinary Tract   \n",
              "1656  Bladder/Urinary Tract Cancer         Bladder/Urinary Tract   \n",
              "1657  Bladder/Urinary Tract Cancer         Bladder/Urinary Tract   \n",
              "1658  Bladder/Urinary Tract Cancer         Bladder/Urinary Tract   \n",
              "\n",
              "             Ethnicity Category  Fraction Genome Altered Gene Panel  ...  \\\n",
              "0     Non-Spanish; Non-Hispanic                   0.1591  IMPACT341  ...   \n",
              "1                           NaN                   0.4515  IMPACT341  ...   \n",
              "2     Non-Spanish; Non-Hispanic                   0.0689  IMPACT341  ...   \n",
              "3     Non-Spanish; Non-Hispanic                   0.5047  IMPACT341  ...   \n",
              "4     Non-Spanish; Non-Hispanic                   0.0052  IMPACT341  ...   \n",
              "...                         ...                      ...        ...  ...   \n",
              "1654  Non-Spanish; Non-Hispanic                   0.1831  IMPACT468  ...   \n",
              "1655  Non-Spanish; Non-Hispanic                   0.4761  IMPACT468  ...   \n",
              "1656  Non-Spanish; Non-Hispanic                   0.2607  IMPACT468  ...   \n",
              "1657  Non-Spanish; Non-Hispanic                   0.8778  IMPACT468  ...   \n",
              "1658  Non-Spanish; Non-Hispanic                   0.7014  IMPACT468  ...   \n",
              "\n",
              "     Sample coverage Sample Type     Sex  Smoker Somatic Status  \\\n",
              "0              461.0     Primary    Male  Former        Matched   \n",
              "1              833.0  Metastasis     NaN  Active        Matched   \n",
              "2             1004.0     Primary    Male  Active        Matched   \n",
              "3              900.0     Primary    Male   Never        Matched   \n",
              "4              973.0  Metastasis    Male  Former        Matched   \n",
              "...              ...         ...     ...     ...            ...   \n",
              "1654           378.0     Primary    Male  Former            NaN   \n",
              "1655           933.0  Metastasis    Male  Former            NaN   \n",
              "1656           867.0  Metastasis  Female  Active            NaN   \n",
              "1657           562.0     Primary  Female  Former            NaN   \n",
              "1658           647.0     Primary    Male  Former            NaN   \n",
              "\n",
              "      Specimen Stage Systemic Treatment  TMB (nonsynonymous) Tumor Purity  \\\n",
              "0                4.0                  1            13.309864           40   \n",
              "1                4.0                  1            29.947193           50   \n",
              "2                3.0                  1             5.545777           60   \n",
              "3                3.0                  1            15.528174           70   \n",
              "4                4.0                  0             3.327466           20   \n",
              "...              ...                ...                  ...          ...   \n",
              "1654             NaN                NaN             6.917585          NaN   \n",
              "1655             NaN                NaN             9.511679          NaN   \n",
              "1656             NaN                NaN             6.052887          NaN   \n",
              "1657             NaN                NaN             6.917585          NaN   \n",
              "1658             NaN                NaN            41.505509          NaN   \n",
              "\n",
              "     Treatment between Pri-Met sample collection  \n",
              "0                                            NaN  \n",
              "1                                            NaN  \n",
              "2                                            NaN  \n",
              "3                                            NaN  \n",
              "4                                            NaN  \n",
              "...                                          ...  \n",
              "1654                                       Chemo  \n",
              "1655                                       Naive  \n",
              "1656                                       Naive  \n",
              "1657                                       Chemo  \n",
              "1658                                       Naive  \n",
              "\n",
              "[1659 rows x 35 columns]"
            ],
            "text/html": [
              "\n",
              "  <div id=\"df-e77012d2-3e70-4e6f-87d5-23f9915358a9\" class=\"colab-df-container\">\n",
              "    <div>\n",
              "<style scoped>\n",
              "    .dataframe tbody tr th:only-of-type {\n",
              "        vertical-align: middle;\n",
              "    }\n",
              "\n",
              "    .dataframe tbody tr th {\n",
              "        vertical-align: top;\n",
              "    }\n",
              "\n",
              "    .dataframe thead th {\n",
              "        text-align: right;\n",
              "    }\n",
              "</style>\n",
              "<table border=\"1\" class=\"dataframe\">\n",
              "  <thead>\n",
              "    <tr style=\"text-align: right;\">\n",
              "      <th></th>\n",
              "      <th>Study ID</th>\n",
              "      <th>Patient ID</th>\n",
              "      <th>Sample ID</th>\n",
              "      <th>Age at Diagnosis</th>\n",
              "      <th>Age at Which Sequencing was Reported (Years)</th>\n",
              "      <th>Cancer Type</th>\n",
              "      <th>Cancer Type Detailed</th>\n",
              "      <th>Ethnicity Category</th>\n",
              "      <th>Fraction Genome Altered</th>\n",
              "      <th>Gene Panel</th>\n",
              "      <th>...</th>\n",
              "      <th>Sample coverage</th>\n",
              "      <th>Sample Type</th>\n",
              "      <th>Sex</th>\n",
              "      <th>Smoker</th>\n",
              "      <th>Somatic Status</th>\n",
              "      <th>Specimen Stage</th>\n",
              "      <th>Systemic Treatment</th>\n",
              "      <th>TMB (nonsynonymous)</th>\n",
              "      <th>Tumor Purity</th>\n",
              "      <th>Treatment between Pri-Met sample collection</th>\n",
              "    </tr>\n",
              "  </thead>\n",
              "  <tbody>\n",
              "    <tr>\n",
              "      <th>0</th>\n",
              "      <td>paired_bladder_2022</td>\n",
              "      <td>P-0000034</td>\n",
              "      <td>P-0000034-T01-IM3</td>\n",
              "      <td>75.0</td>\n",
              "      <td>78</td>\n",
              "      <td>Bladder Cancer</td>\n",
              "      <td>Bladder Urothelial Carcinoma</td>\n",
              "      <td>Non-Spanish; Non-Hispanic</td>\n",
              "      <td>0.1591</td>\n",
              "      <td>IMPACT341</td>\n",
              "      <td>...</td>\n",
              "      <td>461.0</td>\n",
              "      <td>Primary</td>\n",
              "      <td>Male</td>\n",
              "      <td>Former</td>\n",
              "      <td>Matched</td>\n",
              "      <td>4.0</td>\n",
              "      <td>1</td>\n",
              "      <td>13.309864</td>\n",
              "      <td>40</td>\n",
              "      <td>NaN</td>\n",
              "    </tr>\n",
              "    <tr>\n",
              "      <th>1</th>\n",
              "      <td>paired_bladder_2022</td>\n",
              "      <td>P-0000043</td>\n",
              "      <td>P-0000043-T02-IM3</td>\n",
              "      <td>50.0</td>\n",
              "      <td>58</td>\n",
              "      <td>Bladder Cancer</td>\n",
              "      <td>Bladder Urothelial Carcinoma</td>\n",
              "      <td>NaN</td>\n",
              "      <td>0.4515</td>\n",
              "      <td>IMPACT341</td>\n",
              "      <td>...</td>\n",
              "      <td>833.0</td>\n",
              "      <td>Metastasis</td>\n",
              "      <td>NaN</td>\n",
              "      <td>Active</td>\n",
              "      <td>Matched</td>\n",
              "      <td>4.0</td>\n",
              "      <td>1</td>\n",
              "      <td>29.947193</td>\n",
              "      <td>50</td>\n",
              "      <td>NaN</td>\n",
              "    </tr>\n",
              "    <tr>\n",
              "      <th>2</th>\n",
              "      <td>paired_bladder_2022</td>\n",
              "      <td>P-0000056</td>\n",
              "      <td>P-0000056-T01-IM3</td>\n",
              "      <td>57.0</td>\n",
              "      <td>60</td>\n",
              "      <td>Bladder Cancer</td>\n",
              "      <td>Bladder Urothelial Carcinoma</td>\n",
              "      <td>Non-Spanish; Non-Hispanic</td>\n",
              "      <td>0.0689</td>\n",
              "      <td>IMPACT341</td>\n",
              "      <td>...</td>\n",
              "      <td>1004.0</td>\n",
              "      <td>Primary</td>\n",
              "      <td>Male</td>\n",
              "      <td>Active</td>\n",
              "      <td>Matched</td>\n",
              "      <td>3.0</td>\n",
              "      <td>1</td>\n",
              "      <td>5.545777</td>\n",
              "      <td>60</td>\n",
              "      <td>NaN</td>\n",
              "    </tr>\n",
              "    <tr>\n",
              "      <th>3</th>\n",
              "      <td>paired_bladder_2022</td>\n",
              "      <td>P-0000063</td>\n",
              "      <td>P-0000063-T01-IM3</td>\n",
              "      <td>61.0</td>\n",
              "      <td>63</td>\n",
              "      <td>Bladder Cancer</td>\n",
              "      <td>Bladder Urothelial Carcinoma</td>\n",
              "      <td>Non-Spanish; Non-Hispanic</td>\n",
              "      <td>0.5047</td>\n",
              "      <td>IMPACT341</td>\n",
              "      <td>...</td>\n",
              "      <td>900.0</td>\n",
              "      <td>Primary</td>\n",
              "      <td>Male</td>\n",
              "      <td>Never</td>\n",
              "      <td>Matched</td>\n",
              "      <td>3.0</td>\n",
              "      <td>1</td>\n",
              "      <td>15.528174</td>\n",
              "      <td>70</td>\n",
              "      <td>NaN</td>\n",
              "    </tr>\n",
              "    <tr>\n",
              "      <th>4</th>\n",
              "      <td>paired_bladder_2022</td>\n",
              "      <td>P-0000068</td>\n",
              "      <td>P-0000068-T01-IM3</td>\n",
              "      <td>77.0</td>\n",
              "      <td>80</td>\n",
              "      <td>Bladder Cancer</td>\n",
              "      <td>Bladder Urothelial Carcinoma</td>\n",
              "      <td>Non-Spanish; Non-Hispanic</td>\n",
              "      <td>0.0052</td>\n",
              "      <td>IMPACT341</td>\n",
              "      <td>...</td>\n",
              "      <td>973.0</td>\n",
              "      <td>Metastasis</td>\n",
              "      <td>Male</td>\n",
              "      <td>Former</td>\n",
              "      <td>Matched</td>\n",
              "      <td>4.0</td>\n",
              "      <td>0</td>\n",
              "      <td>3.327466</td>\n",
              "      <td>20</td>\n",
              "      <td>NaN</td>\n",
              "    </tr>\n",
              "    <tr>\n",
              "      <th>...</th>\n",
              "      <td>...</td>\n",
              "      <td>...</td>\n",
              "      <td>...</td>\n",
              "      <td>...</td>\n",
              "      <td>...</td>\n",
              "      <td>...</td>\n",
              "      <td>...</td>\n",
              "      <td>...</td>\n",
              "      <td>...</td>\n",
              "      <td>...</td>\n",
              "      <td>...</td>\n",
              "      <td>...</td>\n",
              "      <td>...</td>\n",
              "      <td>...</td>\n",
              "      <td>...</td>\n",
              "      <td>...</td>\n",
              "      <td>...</td>\n",
              "      <td>...</td>\n",
              "      <td>...</td>\n",
              "      <td>...</td>\n",
              "      <td>...</td>\n",
              "    </tr>\n",
              "    <tr>\n",
              "      <th>1654</th>\n",
              "      <td>paired_bladder_2022</td>\n",
              "      <td>P-0015660</td>\n",
              "      <td>s_C_E4UHYD_P001_d</td>\n",
              "      <td>NaN</td>\n",
              "      <td>NaN</td>\n",
              "      <td>Bladder/Urinary Tract Cancer</td>\n",
              "      <td>Bladder/Urinary Tract</td>\n",
              "      <td>Non-Spanish; Non-Hispanic</td>\n",
              "      <td>0.1831</td>\n",
              "      <td>IMPACT468</td>\n",
              "      <td>...</td>\n",
              "      <td>378.0</td>\n",
              "      <td>Primary</td>\n",
              "      <td>Male</td>\n",
              "      <td>Former</td>\n",
              "      <td>NaN</td>\n",
              "      <td>NaN</td>\n",
              "      <td>NaN</td>\n",
              "      <td>6.917585</td>\n",
              "      <td>NaN</td>\n",
              "      <td>Chemo</td>\n",
              "    </tr>\n",
              "    <tr>\n",
              "      <th>1655</th>\n",
              "      <td>paired_bladder_2022</td>\n",
              "      <td>P-0033364</td>\n",
              "      <td>s_C_F75LKW_M001_d</td>\n",
              "      <td>NaN</td>\n",
              "      <td>NaN</td>\n",
              "      <td>Bladder/Urinary Tract Cancer</td>\n",
              "      <td>Bladder/Urinary Tract</td>\n",
              "      <td>Non-Spanish; Non-Hispanic</td>\n",
              "      <td>0.4761</td>\n",
              "      <td>IMPACT468</td>\n",
              "      <td>...</td>\n",
              "      <td>933.0</td>\n",
              "      <td>Metastasis</td>\n",
              "      <td>Male</td>\n",
              "      <td>Former</td>\n",
              "      <td>NaN</td>\n",
              "      <td>NaN</td>\n",
              "      <td>NaN</td>\n",
              "      <td>9.511679</td>\n",
              "      <td>NaN</td>\n",
              "      <td>Naive</td>\n",
              "    </tr>\n",
              "    <tr>\n",
              "      <th>1656</th>\n",
              "      <td>paired_bladder_2022</td>\n",
              "      <td>P-0015663</td>\n",
              "      <td>s_C_F8A03J_M001_d</td>\n",
              "      <td>NaN</td>\n",
              "      <td>NaN</td>\n",
              "      <td>Bladder/Urinary Tract Cancer</td>\n",
              "      <td>Bladder/Urinary Tract</td>\n",
              "      <td>Non-Spanish; Non-Hispanic</td>\n",
              "      <td>0.2607</td>\n",
              "      <td>IMPACT468</td>\n",
              "      <td>...</td>\n",
              "      <td>867.0</td>\n",
              "      <td>Metastasis</td>\n",
              "      <td>Female</td>\n",
              "      <td>Active</td>\n",
              "      <td>NaN</td>\n",
              "      <td>NaN</td>\n",
              "      <td>NaN</td>\n",
              "      <td>6.052887</td>\n",
              "      <td>NaN</td>\n",
              "      <td>Naive</td>\n",
              "    </tr>\n",
              "    <tr>\n",
              "      <th>1657</th>\n",
              "      <td>paired_bladder_2022</td>\n",
              "      <td>P-0034906</td>\n",
              "      <td>s_C_N0LN75_P001_d</td>\n",
              "      <td>NaN</td>\n",
              "      <td>NaN</td>\n",
              "      <td>Bladder/Urinary Tract Cancer</td>\n",
              "      <td>Bladder/Urinary Tract</td>\n",
              "      <td>Non-Spanish; Non-Hispanic</td>\n",
              "      <td>0.8778</td>\n",
              "      <td>IMPACT468</td>\n",
              "      <td>...</td>\n",
              "      <td>562.0</td>\n",
              "      <td>Primary</td>\n",
              "      <td>Female</td>\n",
              "      <td>Former</td>\n",
              "      <td>NaN</td>\n",
              "      <td>NaN</td>\n",
              "      <td>NaN</td>\n",
              "      <td>6.917585</td>\n",
              "      <td>NaN</td>\n",
              "      <td>Chemo</td>\n",
              "    </tr>\n",
              "    <tr>\n",
              "      <th>1658</th>\n",
              "      <td>paired_bladder_2022</td>\n",
              "      <td>P-0015920</td>\n",
              "      <td>s_C_YKYKUT_P001_d</td>\n",
              "      <td>NaN</td>\n",
              "      <td>NaN</td>\n",
              "      <td>Bladder/Urinary Tract Cancer</td>\n",
              "      <td>Bladder/Urinary Tract</td>\n",
              "      <td>Non-Spanish; Non-Hispanic</td>\n",
              "      <td>0.7014</td>\n",
              "      <td>IMPACT468</td>\n",
              "      <td>...</td>\n",
              "      <td>647.0</td>\n",
              "      <td>Primary</td>\n",
              "      <td>Male</td>\n",
              "      <td>Former</td>\n",
              "      <td>NaN</td>\n",
              "      <td>NaN</td>\n",
              "      <td>NaN</td>\n",
              "      <td>41.505509</td>\n",
              "      <td>NaN</td>\n",
              "      <td>Naive</td>\n",
              "    </tr>\n",
              "  </tbody>\n",
              "</table>\n",
              "<p>1659 rows × 35 columns</p>\n",
              "</div>\n",
              "    <div class=\"colab-df-buttons\">\n",
              "\n",
              "  <div class=\"colab-df-container\">\n",
              "    <button class=\"colab-df-convert\" onclick=\"convertToInteractive('df-e77012d2-3e70-4e6f-87d5-23f9915358a9')\"\n",
              "            title=\"Convert this dataframe to an interactive table.\"\n",
              "            style=\"display:none;\">\n",
              "\n",
              "  <svg xmlns=\"http://www.w3.org/2000/svg\" height=\"24px\" viewBox=\"0 -960 960 960\">\n",
              "    <path d=\"M120-120v-720h720v720H120Zm60-500h600v-160H180v160Zm220 220h160v-160H400v160Zm0 220h160v-160H400v160ZM180-400h160v-160H180v160Zm440 0h160v-160H620v160ZM180-180h160v-160H180v160Zm440 0h160v-160H620v160Z\"/>\n",
              "  </svg>\n",
              "    </button>\n",
              "\n",
              "  <style>\n",
              "    .colab-df-container {\n",
              "      display:flex;\n",
              "      gap: 12px;\n",
              "    }\n",
              "\n",
              "    .colab-df-convert {\n",
              "      background-color: #E8F0FE;\n",
              "      border: none;\n",
              "      border-radius: 50%;\n",
              "      cursor: pointer;\n",
              "      display: none;\n",
              "      fill: #1967D2;\n",
              "      height: 32px;\n",
              "      padding: 0 0 0 0;\n",
              "      width: 32px;\n",
              "    }\n",
              "\n",
              "    .colab-df-convert:hover {\n",
              "      background-color: #E2EBFA;\n",
              "      box-shadow: 0px 1px 2px rgba(60, 64, 67, 0.3), 0px 1px 3px 1px rgba(60, 64, 67, 0.15);\n",
              "      fill: #174EA6;\n",
              "    }\n",
              "\n",
              "    .colab-df-buttons div {\n",
              "      margin-bottom: 4px;\n",
              "    }\n",
              "\n",
              "    [theme=dark] .colab-df-convert {\n",
              "      background-color: #3B4455;\n",
              "      fill: #D2E3FC;\n",
              "    }\n",
              "\n",
              "    [theme=dark] .colab-df-convert:hover {\n",
              "      background-color: #434B5C;\n",
              "      box-shadow: 0px 1px 3px 1px rgba(0, 0, 0, 0.15);\n",
              "      filter: drop-shadow(0px 1px 2px rgba(0, 0, 0, 0.3));\n",
              "      fill: #FFFFFF;\n",
              "    }\n",
              "  </style>\n",
              "\n",
              "    <script>\n",
              "      const buttonEl =\n",
              "        document.querySelector('#df-e77012d2-3e70-4e6f-87d5-23f9915358a9 button.colab-df-convert');\n",
              "      buttonEl.style.display =\n",
              "        google.colab.kernel.accessAllowed ? 'block' : 'none';\n",
              "\n",
              "      async function convertToInteractive(key) {\n",
              "        const element = document.querySelector('#df-e77012d2-3e70-4e6f-87d5-23f9915358a9');\n",
              "        const dataTable =\n",
              "          await google.colab.kernel.invokeFunction('convertToInteractive',\n",
              "                                                    [key], {});\n",
              "        if (!dataTable) return;\n",
              "\n",
              "        const docLinkHtml = 'Like what you see? Visit the ' +\n",
              "          '<a target=\"_blank\" href=https://colab.research.google.com/notebooks/data_table.ipynb>data table notebook</a>'\n",
              "          + ' to learn more about interactive tables.';\n",
              "        element.innerHTML = '';\n",
              "        dataTable['output_type'] = 'display_data';\n",
              "        await google.colab.output.renderOutput(dataTable, element);\n",
              "        const docLink = document.createElement('div');\n",
              "        docLink.innerHTML = docLinkHtml;\n",
              "        element.appendChild(docLink);\n",
              "      }\n",
              "    </script>\n",
              "  </div>\n",
              "\n",
              "\n",
              "<div id=\"df-826c7fad-2d88-4d7e-bc1d-53258b0b5ca5\">\n",
              "  <button class=\"colab-df-quickchart\" onclick=\"quickchart('df-826c7fad-2d88-4d7e-bc1d-53258b0b5ca5')\"\n",
              "            title=\"Suggest charts\"\n",
              "            style=\"display:none;\">\n",
              "\n",
              "<svg xmlns=\"http://www.w3.org/2000/svg\" height=\"24px\"viewBox=\"0 0 24 24\"\n",
              "     width=\"24px\">\n",
              "    <g>\n",
              "        <path d=\"M19 3H5c-1.1 0-2 .9-2 2v14c0 1.1.9 2 2 2h14c1.1 0 2-.9 2-2V5c0-1.1-.9-2-2-2zM9 17H7v-7h2v7zm4 0h-2V7h2v10zm4 0h-2v-4h2v4z\"/>\n",
              "    </g>\n",
              "</svg>\n",
              "  </button>\n",
              "\n",
              "<style>\n",
              "  .colab-df-quickchart {\n",
              "      --bg-color: #E8F0FE;\n",
              "      --fill-color: #1967D2;\n",
              "      --hover-bg-color: #E2EBFA;\n",
              "      --hover-fill-color: #174EA6;\n",
              "      --disabled-fill-color: #AAA;\n",
              "      --disabled-bg-color: #DDD;\n",
              "  }\n",
              "\n",
              "  [theme=dark] .colab-df-quickchart {\n",
              "      --bg-color: #3B4455;\n",
              "      --fill-color: #D2E3FC;\n",
              "      --hover-bg-color: #434B5C;\n",
              "      --hover-fill-color: #FFFFFF;\n",
              "      --disabled-bg-color: #3B4455;\n",
              "      --disabled-fill-color: #666;\n",
              "  }\n",
              "\n",
              "  .colab-df-quickchart {\n",
              "    background-color: var(--bg-color);\n",
              "    border: none;\n",
              "    border-radius: 50%;\n",
              "    cursor: pointer;\n",
              "    display: none;\n",
              "    fill: var(--fill-color);\n",
              "    height: 32px;\n",
              "    padding: 0;\n",
              "    width: 32px;\n",
              "  }\n",
              "\n",
              "  .colab-df-quickchart:hover {\n",
              "    background-color: var(--hover-bg-color);\n",
              "    box-shadow: 0 1px 2px rgba(60, 64, 67, 0.3), 0 1px 3px 1px rgba(60, 64, 67, 0.15);\n",
              "    fill: var(--button-hover-fill-color);\n",
              "  }\n",
              "\n",
              "  .colab-df-quickchart-complete:disabled,\n",
              "  .colab-df-quickchart-complete:disabled:hover {\n",
              "    background-color: var(--disabled-bg-color);\n",
              "    fill: var(--disabled-fill-color);\n",
              "    box-shadow: none;\n",
              "  }\n",
              "\n",
              "  .colab-df-spinner {\n",
              "    border: 2px solid var(--fill-color);\n",
              "    border-color: transparent;\n",
              "    border-bottom-color: var(--fill-color);\n",
              "    animation:\n",
              "      spin 1s steps(1) infinite;\n",
              "  }\n",
              "\n",
              "  @keyframes spin {\n",
              "    0% {\n",
              "      border-color: transparent;\n",
              "      border-bottom-color: var(--fill-color);\n",
              "      border-left-color: var(--fill-color);\n",
              "    }\n",
              "    20% {\n",
              "      border-color: transparent;\n",
              "      border-left-color: var(--fill-color);\n",
              "      border-top-color: var(--fill-color);\n",
              "    }\n",
              "    30% {\n",
              "      border-color: transparent;\n",
              "      border-left-color: var(--fill-color);\n",
              "      border-top-color: var(--fill-color);\n",
              "      border-right-color: var(--fill-color);\n",
              "    }\n",
              "    40% {\n",
              "      border-color: transparent;\n",
              "      border-right-color: var(--fill-color);\n",
              "      border-top-color: var(--fill-color);\n",
              "    }\n",
              "    60% {\n",
              "      border-color: transparent;\n",
              "      border-right-color: var(--fill-color);\n",
              "    }\n",
              "    80% {\n",
              "      border-color: transparent;\n",
              "      border-right-color: var(--fill-color);\n",
              "      border-bottom-color: var(--fill-color);\n",
              "    }\n",
              "    90% {\n",
              "      border-color: transparent;\n",
              "      border-bottom-color: var(--fill-color);\n",
              "    }\n",
              "  }\n",
              "</style>\n",
              "\n",
              "  <script>\n",
              "    async function quickchart(key) {\n",
              "      const quickchartButtonEl =\n",
              "        document.querySelector('#' + key + ' button');\n",
              "      quickchartButtonEl.disabled = true;  // To prevent multiple clicks.\n",
              "      quickchartButtonEl.classList.add('colab-df-spinner');\n",
              "      try {\n",
              "        const charts = await google.colab.kernel.invokeFunction(\n",
              "            'suggestCharts', [key], {});\n",
              "      } catch (error) {\n",
              "        console.error('Error during call to suggestCharts:', error);\n",
              "      }\n",
              "      quickchartButtonEl.classList.remove('colab-df-spinner');\n",
              "      quickchartButtonEl.classList.add('colab-df-quickchart-complete');\n",
              "    }\n",
              "    (() => {\n",
              "      let quickchartButtonEl =\n",
              "        document.querySelector('#df-826c7fad-2d88-4d7e-bc1d-53258b0b5ca5 button');\n",
              "      quickchartButtonEl.style.display =\n",
              "        google.colab.kernel.accessAllowed ? 'block' : 'none';\n",
              "    })();\n",
              "  </script>\n",
              "</div>\n",
              "\n",
              "  <div id=\"id_537d3916-0971-4f34-9b2a-8df2c0cea096\">\n",
              "    <style>\n",
              "      .colab-df-generate {\n",
              "        background-color: #E8F0FE;\n",
              "        border: none;\n",
              "        border-radius: 50%;\n",
              "        cursor: pointer;\n",
              "        display: none;\n",
              "        fill: #1967D2;\n",
              "        height: 32px;\n",
              "        padding: 0 0 0 0;\n",
              "        width: 32px;\n",
              "      }\n",
              "\n",
              "      .colab-df-generate:hover {\n",
              "        background-color: #E2EBFA;\n",
              "        box-shadow: 0px 1px 2px rgba(60, 64, 67, 0.3), 0px 1px 3px 1px rgba(60, 64, 67, 0.15);\n",
              "        fill: #174EA6;\n",
              "      }\n",
              "\n",
              "      [theme=dark] .colab-df-generate {\n",
              "        background-color: #3B4455;\n",
              "        fill: #D2E3FC;\n",
              "      }\n",
              "\n",
              "      [theme=dark] .colab-df-generate:hover {\n",
              "        background-color: #434B5C;\n",
              "        box-shadow: 0px 1px 3px 1px rgba(0, 0, 0, 0.15);\n",
              "        filter: drop-shadow(0px 1px 2px rgba(0, 0, 0, 0.3));\n",
              "        fill: #FFFFFF;\n",
              "      }\n",
              "    </style>\n",
              "    <button class=\"colab-df-generate\" onclick=\"generateWithVariable('df')\"\n",
              "            title=\"Generate code using this dataframe.\"\n",
              "            style=\"display:none;\">\n",
              "\n",
              "  <svg xmlns=\"http://www.w3.org/2000/svg\" height=\"24px\"viewBox=\"0 0 24 24\"\n",
              "       width=\"24px\">\n",
              "    <path d=\"M7,19H8.4L18.45,9,17,7.55,7,17.6ZM5,21V16.75L18.45,3.32a2,2,0,0,1,2.83,0l1.4,1.43a1.91,1.91,0,0,1,.58,1.4,1.91,1.91,0,0,1-.58,1.4L9.25,21ZM18.45,9,17,7.55Zm-12,3A5.31,5.31,0,0,0,4.9,8.1,5.31,5.31,0,0,0,1,6.5,5.31,5.31,0,0,0,4.9,4.9,5.31,5.31,0,0,0,6.5,1,5.31,5.31,0,0,0,8.1,4.9,5.31,5.31,0,0,0,12,6.5,5.46,5.46,0,0,0,6.5,12Z\"/>\n",
              "  </svg>\n",
              "    </button>\n",
              "    <script>\n",
              "      (() => {\n",
              "      const buttonEl =\n",
              "        document.querySelector('#id_537d3916-0971-4f34-9b2a-8df2c0cea096 button.colab-df-generate');\n",
              "      buttonEl.style.display =\n",
              "        google.colab.kernel.accessAllowed ? 'block' : 'none';\n",
              "\n",
              "      buttonEl.onclick = () => {\n",
              "        google.colab.notebook.generateWithVariable('df');\n",
              "      }\n",
              "      })();\n",
              "    </script>\n",
              "  </div>\n",
              "\n",
              "    </div>\n",
              "  </div>\n"
            ]
          },
          "metadata": {},
          "execution_count": 5
        }
      ]
    },
    {
      "cell_type": "markdown",
      "source": [
        "#2. Preprocessing"
      ],
      "metadata": {
        "id": "1sp5_vRkSk44"
      }
    },
    {
      "cell_type": "markdown",
      "source": [
        "##a. Removing Null Values and Dropping Columns"
      ],
      "metadata": {
        "id": "m-4O7nWVSpB1"
      }
    },
    {
      "cell_type": "code",
      "source": [
        "print(df.isnull().sum())"
      ],
      "metadata": {
        "colab": {
          "base_uri": "https://localhost:8080/"
        },
        "id": "Qac-ASuaRPP9",
        "outputId": "f071417e-cd6b-4ef0-d35b-3150b5efc768"
      },
      "execution_count": 6,
      "outputs": [
        {
          "output_type": "stream",
          "name": "stdout",
          "text": [
            "Study ID                                           0\n",
            "Patient ID                                         0\n",
            "Sample ID                                          0\n",
            "Age at Diagnosis                                 387\n",
            "Age at Which Sequencing was Reported (Years)     153\n",
            "Cancer Type                                        0\n",
            "Cancer Type Detailed                               0\n",
            "Ethnicity Category                                12\n",
            "Fraction Genome Altered                          133\n",
            "Gene Panel                                         0\n",
            "Intravesical Treatment                           346\n",
            "Metastatic Site                                 1340\n",
            "Met Location                                    1366\n",
            "MSI Score                                         27\n",
            "MSI Type                                         158\n",
            "Mutation Count                                    38\n",
            "Oncotree Code                                      0\n",
            "Overall Survival (Months)                         77\n",
            "Overall Survival Status                            2\n",
            "Pediatric Case Indicator                           2\n",
            "Primary Tumor Site                                17\n",
            "Race Category                                      2\n",
            "Religion                                           2\n",
            "Sample Class                                       0\n",
            "Number of Samples Per Patient                      0\n",
            "Sample coverage                                    7\n",
            "Sample Type                                        0\n",
            "Sex                                                2\n",
            "Smoker                                           220\n",
            "Somatic Status                                    16\n",
            "Specimen Stage                                   346\n",
            "Systemic Treatment                               360\n",
            "TMB (nonsynonymous)                                0\n",
            "Tumor Purity                                     165\n",
            "Treatment between Pri-Met sample collection     1366\n",
            "dtype: int64\n"
          ]
        }
      ]
    },
    {
      "cell_type": "code",
      "source": [
        "# Drop columns\n",
        "drop = ['Study ID', 'Patient ID', 'Sample ID', 'Metastatic Site', 'Met Location', 'Treatment between Pri-Met sample collection']\n",
        "df = df.drop(columns=drop)"
      ],
      "metadata": {
        "id": "T1CmB8jWRPSh"
      },
      "execution_count": 7,
      "outputs": []
    },
    {
      "cell_type": "code",
      "source": [
        "df = df.dropna()\n",
        "print(df.isnull().sum())"
      ],
      "metadata": {
        "colab": {
          "base_uri": "https://localhost:8080/"
        },
        "id": "Mhk9E7mzRPVy",
        "outputId": "6f228c83-f858-43ac-c747-396fcdbf00b4"
      },
      "execution_count": 8,
      "outputs": [
        {
          "output_type": "stream",
          "name": "stdout",
          "text": [
            "Age at Diagnosis                                0\n",
            "Age at Which Sequencing was Reported (Years)    0\n",
            "Cancer Type                                     0\n",
            "Cancer Type Detailed                            0\n",
            "Ethnicity Category                              0\n",
            "Fraction Genome Altered                         0\n",
            "Gene Panel                                      0\n",
            "Intravesical Treatment                          0\n",
            "MSI Score                                       0\n",
            "MSI Type                                        0\n",
            "Mutation Count                                  0\n",
            "Oncotree Code                                   0\n",
            "Overall Survival (Months)                       0\n",
            "Overall Survival Status                         0\n",
            "Pediatric Case Indicator                        0\n",
            "Primary Tumor Site                              0\n",
            "Race Category                                   0\n",
            "Religion                                        0\n",
            "Sample Class                                    0\n",
            "Number of Samples Per Patient                   0\n",
            "Sample coverage                                 0\n",
            "Sample Type                                     0\n",
            "Sex                                             0\n",
            "Smoker                                          0\n",
            "Somatic Status                                  0\n",
            "Specimen Stage                                  0\n",
            "Systemic Treatment                              0\n",
            "TMB (nonsynonymous)                             0\n",
            "Tumor Purity                                    0\n",
            "dtype: int64\n"
          ]
        }
      ]
    },
    {
      "cell_type": "code",
      "source": [
        "df.shape"
      ],
      "metadata": {
        "colab": {
          "base_uri": "https://localhost:8080/"
        },
        "id": "O9u-4pGMRPYv",
        "outputId": "aebacebb-d4ff-4fdc-d8e3-a7aa94d01380"
      },
      "execution_count": 9,
      "outputs": [
        {
          "output_type": "execute_result",
          "data": {
            "text/plain": [
              "(1175, 29)"
            ]
          },
          "metadata": {},
          "execution_count": 9
        }
      ]
    },
    {
      "cell_type": "code",
      "source": [
        "df.dtypes"
      ],
      "metadata": {
        "colab": {
          "base_uri": "https://localhost:8080/"
        },
        "id": "0C5zTfWiRPb2",
        "outputId": "c69ec8e8-6c1d-4931-8079-21e053f35596"
      },
      "execution_count": 10,
      "outputs": [
        {
          "output_type": "execute_result",
          "data": {
            "text/plain": [
              "Age at Diagnosis                                float64\n",
              "Age at Which Sequencing was Reported (Years)     object\n",
              "Cancer Type                                      object\n",
              "Cancer Type Detailed                             object\n",
              "Ethnicity Category                               object\n",
              "Fraction Genome Altered                         float64\n",
              "Gene Panel                                       object\n",
              "Intravesical Treatment                           object\n",
              "MSI Score                                       float64\n",
              "MSI Type                                         object\n",
              "Mutation Count                                  float64\n",
              "Oncotree Code                                    object\n",
              "Overall Survival (Months)                       float64\n",
              "Overall Survival Status                          object\n",
              "Pediatric Case Indicator                         object\n",
              "Primary Tumor Site                               object\n",
              "Race Category                                    object\n",
              "Religion                                         object\n",
              "Sample Class                                     object\n",
              "Number of Samples Per Patient                     int64\n",
              "Sample coverage                                 float64\n",
              "Sample Type                                      object\n",
              "Sex                                              object\n",
              "Smoker                                           object\n",
              "Somatic Status                                   object\n",
              "Specimen Stage                                  float64\n",
              "Systemic Treatment                               object\n",
              "TMB (nonsynonymous)                             float64\n",
              "Tumor Purity                                     object\n",
              "dtype: object"
            ]
          },
          "metadata": {},
          "execution_count": 10
        }
      ]
    },
    {
      "cell_type": "markdown",
      "source": [
        "##b. Removing 'Unknown' values and fixing data types"
      ],
      "metadata": {
        "id": "5Rex-z75YieQ"
      }
    },
    {
      "cell_type": "code",
      "source": [
        "#Replacing >90 to 90\n",
        "df['Age at Which Sequencing was Reported (Years)'] = df['Age at Which Sequencing was Reported (Years)'].replace('>90', 90)\n",
        "df['Age at Which Sequencing was Reported (Years)'] = df['Age at Which Sequencing was Reported (Years)'].astype(int)"
      ],
      "metadata": {
        "id": "qRlr1hWYYguR"
      },
      "execution_count": 11,
      "outputs": []
    },
    {
      "cell_type": "code",
      "source": [
        "#Removing value 'Cancer of Unknown Primary' from 'Cancer Type' Column\n",
        "df = df[df['Cancer Type'] != 'Cancer of Unknown Primary']\n",
        "\n",
        "label_encoder_cancer_type = LabelEncoder()\n",
        "df['Cancer Type'] = label_encoder_cancer_type.fit_transform(df['Cancer Type'])"
      ],
      "metadata": {
        "colab": {
          "base_uri": "https://localhost:8080/"
        },
        "id": "il5ndwenY9BT",
        "outputId": "4eed4c6f-6639-4531-83e7-3784f572583a"
      },
      "execution_count": 12,
      "outputs": [
        {
          "output_type": "stream",
          "name": "stderr",
          "text": [
            "<ipython-input-12-dc4a8aec46b2>:5: SettingWithCopyWarning: \n",
            "A value is trying to be set on a copy of a slice from a DataFrame.\n",
            "Try using .loc[row_indexer,col_indexer] = value instead\n",
            "\n",
            "See the caveats in the documentation: https://pandas.pydata.org/pandas-docs/stable/user_guide/indexing.html#returning-a-view-versus-a-copy\n",
            "  df['Cancer Type'] = label_encoder_cancer_type.fit_transform(df['Cancer Type'])\n"
          ]
        }
      ]
    },
    {
      "cell_type": "code",
      "source": [
        "#Removing value 'Cancer of Unknown Primary' from 'Cancer Type' Column and encoding it to int\n",
        "df = df[df['Cancer Type Detailed'] != 'Cancer of Unknown Primary']\n",
        "\n",
        "label_encoder_cancer_type_detailed = LabelEncoder()\n",
        "df['Cancer Type Detailed'] = label_encoder_cancer_type_detailed.fit_transform(df['Cancer Type Detailed'])"
      ],
      "metadata": {
        "id": "oRHgvBHFZ6m_"
      },
      "execution_count": 13,
      "outputs": []
    },
    {
      "cell_type": "code",
      "source": [
        "#Encoding 'Ethnicity Category' column to int\n",
        "label_encoder_ethnicitiy = LabelEncoder()\n",
        "df['Ethnicity Category'] = label_encoder_ethnicitiy.fit_transform(df['Ethnicity Category'])"
      ],
      "metadata": {
        "id": "F3d7QXyiaCdx"
      },
      "execution_count": 14,
      "outputs": []
    },
    {
      "cell_type": "code",
      "source": [
        "#Encoding 'Gene Panel' column to int\n",
        "label_encoder_gene = LabelEncoder()\n",
        "df['Gene Panel'] = label_encoder_gene.fit_transform(df['Gene Panel'])"
      ],
      "metadata": {
        "id": "xydaiy58bDbb"
      },
      "execution_count": 15,
      "outputs": []
    },
    {
      "cell_type": "code",
      "source": [
        "#Removing value '.' from 'Intravesical Treatment' Column\n",
        "df = df[df['Intravesical Treatment'] != '.']\n",
        "\n",
        "df['Intravesical Treatment'] = df['Intravesical Treatment'].astype(int)"
      ],
      "metadata": {
        "id": "llh9DBgfbDeL"
      },
      "execution_count": 16,
      "outputs": []
    },
    {
      "cell_type": "code",
      "source": [
        "#Encoding 'MSI Type' column to int\n",
        "label_encoder_msi_type = LabelEncoder()\n",
        "df['MSI Type'] = label_encoder_msi_type.fit_transform(df['MSI Type'])"
      ],
      "metadata": {
        "id": "fewusezMbDgq"
      },
      "execution_count": 17,
      "outputs": []
    },
    {
      "cell_type": "code",
      "source": [
        "#Encoding 'Oncotree Code' column to int\n",
        "label_encoder_oncotree_code = LabelEncoder()\n",
        "df['Oncotree Code'] = label_encoder_oncotree_code.fit_transform(df['Oncotree Code'])"
      ],
      "metadata": {
        "id": "jCGcgx54bDk2"
      },
      "execution_count": 18,
      "outputs": []
    },
    {
      "cell_type": "code",
      "source": [
        "#Encoding 'Overall Survival Status' column to int\n",
        "label_encoder_overall_survival_status = LabelEncoder()\n",
        "df['Overall Survival Status'] = label_encoder_overall_survival_status.fit_transform(df['Overall Survival Status'])"
      ],
      "metadata": {
        "id": "g-1Ggq5acAmA"
      },
      "execution_count": 19,
      "outputs": []
    },
    {
      "cell_type": "code",
      "source": [
        "#Encoding 'Pediatric Case Indicator' column to int\n",
        "label_encoder_pediatric = LabelEncoder()\n",
        "df['Pediatric Case Indicator'] = label_encoder_pediatric.fit_transform(df['Pediatric Case Indicator'])"
      ],
      "metadata": {
        "id": "fwIzA-xFdGTY"
      },
      "execution_count": 20,
      "outputs": []
    },
    {
      "cell_type": "code",
      "source": [
        "#Removing value 'Unknown' from 'Primary Tumour Site' Column and encoding it to int\n",
        "df = df[df['Primary Tumor Site'] != 'Unknown']\n",
        "\n",
        "label_encoder_primary_tumor_site = LabelEncoder()\n",
        "df['Primary Tumor Site'] = label_encoder_primary_tumor_site.fit_transform(df['Primary Tumor Site'])"
      ],
      "metadata": {
        "id": "Tv-OFLr1dGWC"
      },
      "execution_count": 21,
      "outputs": []
    },
    {
      "cell_type": "code",
      "source": [
        "#Removing value 'PT REFUSED TO ANSWER', 'NO VALUE ENTERED' and 'UNKNOWN' from 'Race Category' Column and encoding it to int\n",
        "df = df[df['Race Category'] != 'PT REFUSED TO ANSWER']\n",
        "df = df[df['Race Category'] != 'NO VALUE ENTERED']\n",
        "df = df[df['Race Category'] != 'UNKNOWN']\n",
        "\n",
        "label_encoder_race_category = LabelEncoder()\n",
        "df['Race Category'] = label_encoder_race_category.fit_transform(df['Race Category'])"
      ],
      "metadata": {
        "id": "fI9SscsLdGYn"
      },
      "execution_count": 22,
      "outputs": []
    },
    {
      "cell_type": "code",
      "source": [
        "#Removing value 'NO VALUE ENTERED' and 'UNKNOWN' from 'Religion' Column and encoding it to int\n",
        "df = df[df['Religion'] != 'NO VALUE ENTERED']\n",
        "df = df[df['Religion'] != 'UNKNOWN']\n",
        "\n",
        "label_encoder_religion = LabelEncoder()\n",
        "df['Religion'] = label_encoder_religion.fit_transform(df['Religion'])"
      ],
      "metadata": {
        "id": "D-eD90soflVM"
      },
      "execution_count": 23,
      "outputs": []
    },
    {
      "cell_type": "code",
      "source": [
        "#Encoding 'Sample Class' column to int\n",
        "label_encoder_sample_class = LabelEncoder()\n",
        "df['Sample Class'] = label_encoder_sample_class.fit_transform(df['Sample Class'])"
      ],
      "metadata": {
        "id": "cmZsMIVnflX9"
      },
      "execution_count": 24,
      "outputs": []
    },
    {
      "cell_type": "code",
      "source": [
        "#Removing value 'Unknown' and 'Unknown_Tumor' from 'Sample Type' Column and encoding it to int\n",
        "df = df[df['Sample Type'] != 'Unknown']\n",
        "df = df[df['Sample Type'] != 'Unknown_Tumor']\n",
        "\n",
        "label_encoder_sample_type = LabelEncoder()\n",
        "df['Sample Type'] = label_encoder_sample_type.fit_transform(df['Sample Type'])"
      ],
      "metadata": {
        "id": "HDZJ2fhzflam"
      },
      "execution_count": 25,
      "outputs": []
    },
    {
      "cell_type": "code",
      "source": [
        "#Encoding 'Sex' column to int\n",
        "label_encoder_sex = LabelEncoder()\n",
        "df['Sex'] = label_encoder_sex.fit_transform(df['Sex'])"
      ],
      "metadata": {
        "id": "GHnLwzOQcArk"
      },
      "execution_count": 26,
      "outputs": []
    },
    {
      "cell_type": "code",
      "source": [
        "#Encoding 'Smoker' column to int\n",
        "label_encoder_smoker = LabelEncoder()\n",
        "df['Smoker'] = label_encoder_smoker.fit_transform(df['Smoker'])"
      ],
      "metadata": {
        "id": "pIF251WIg_VP"
      },
      "execution_count": 27,
      "outputs": []
    },
    {
      "cell_type": "code",
      "source": [
        "#Encoding 'Somatic Status' column to int\n",
        "label_encoder_somatic_status = LabelEncoder()\n",
        "df['Somatic Status'] = label_encoder_somatic_status.fit_transform(df['Somatic Status'])"
      ],
      "metadata": {
        "id": "094Flybmg_ZO"
      },
      "execution_count": 28,
      "outputs": []
    },
    {
      "cell_type": "code",
      "source": [
        "#Removing value '.' from 'Systemic Treatment' Column\n",
        "df = df[df['Systemic Treatment'] != '.']\n",
        "\n",
        "df['Systemic Treatment'] = df['Systemic Treatment'].astype(int)"
      ],
      "metadata": {
        "id": "R2qHaWUWg_cC"
      },
      "execution_count": 29,
      "outputs": []
    },
    {
      "cell_type": "code",
      "source": [
        "#Removing value '<10' from 'Tumor Purity' Column\n",
        "df = df[df['Tumor Purity'] != '<10']\n",
        "\n",
        "df['Tumor Purity'] = df['Tumor Purity'].astype(int)"
      ],
      "metadata": {
        "colab": {
          "base_uri": "https://localhost:8080/"
        },
        "id": "VArlMHd4g_eu",
        "outputId": "1ad82938-81c6-4f4c-f147-48057fb68f99"
      },
      "execution_count": 30,
      "outputs": [
        {
          "output_type": "stream",
          "name": "stderr",
          "text": [
            "<ipython-input-30-cf5e2cc86ca0>:4: SettingWithCopyWarning: \n",
            "A value is trying to be set on a copy of a slice from a DataFrame.\n",
            "Try using .loc[row_indexer,col_indexer] = value instead\n",
            "\n",
            "See the caveats in the documentation: https://pandas.pydata.org/pandas-docs/stable/user_guide/indexing.html#returning-a-view-versus-a-copy\n",
            "  df['Tumor Purity'] = df['Tumor Purity'].astype(int)\n"
          ]
        }
      ]
    },
    {
      "cell_type": "markdown",
      "source": [
        "##c. Reordering"
      ],
      "metadata": {
        "id": "uO_SYDSXiV7C"
      }
    },
    {
      "cell_type": "code",
      "source": [
        "columns = df.columns.tolist()\n",
        "columns.remove('Overall Survival Status')\n",
        "columns.append('Overall Survival Status')\n",
        "\n",
        "#Reorder the columns\n",
        "df = df[columns]\n",
        "\n",
        "#Resetting index\n",
        "df = df.reset_index(drop=True)"
      ],
      "metadata": {
        "id": "WauCH6MpaCoF"
      },
      "execution_count": 31,
      "outputs": []
    },
    {
      "cell_type": "code",
      "source": [
        "df"
      ],
      "metadata": {
        "colab": {
          "base_uri": "https://localhost:8080/",
          "height": 0
        },
        "id": "RBGpP3vZaCql",
        "outputId": "d32509b7-f9e4-4e1f-93c4-507e4930f152"
      },
      "execution_count": 32,
      "outputs": [
        {
          "output_type": "execute_result",
          "data": {
            "text/plain": [
              "      Age at Diagnosis  Age at Which Sequencing was Reported (Years)  \\\n",
              "0                 75.0                                            78   \n",
              "1                 57.0                                            60   \n",
              "2                 61.0                                            63   \n",
              "3                 77.0                                            80   \n",
              "4                 64.0                                            67   \n",
              "...                ...                                           ...   \n",
              "1105              56.0                                            85   \n",
              "1106              70.0                                            72   \n",
              "1107              70.0                                            72   \n",
              "1108              76.0                                            77   \n",
              "1109              74.0                                            76   \n",
              "\n",
              "      Cancer Type  Cancer Type Detailed  Ethnicity Category  \\\n",
              "0               0                     1                   2   \n",
              "1               0                     1                   2   \n",
              "2               0                     1                   2   \n",
              "3               0                     1                   2   \n",
              "4               0                     1                   2   \n",
              "...           ...                   ...                 ...   \n",
              "1105            0                     1                   2   \n",
              "1106            0                     1                   2   \n",
              "1107            0                     1                   2   \n",
              "1108            0                     1                   2   \n",
              "1109            0                     1                   2   \n",
              "\n",
              "      Fraction Genome Altered  Gene Panel  Intravesical Treatment  MSI Score  \\\n",
              "0                      0.1591           0                       0       0.08   \n",
              "1                      0.0689           0                       0       0.63   \n",
              "2                      0.5047           0                       0       1.86   \n",
              "3                      0.0052           0                       0       0.00   \n",
              "4                      0.0500           0                       0       0.00   \n",
              "...                       ...         ...                     ...        ...   \n",
              "1105                   0.2786           2                       1       0.11   \n",
              "1106                   0.0000           2                       1       0.10   \n",
              "1107                   0.0272           2                       1       0.83   \n",
              "1108                   0.0241           2                       0       0.36   \n",
              "1109                   0.1357           2                       1       0.05   \n",
              "\n",
              "      MSI Type  ...  Sample coverage  Sample Type  Sex  Smoker  \\\n",
              "0            3  ...            461.0            2    1       1   \n",
              "1            3  ...           1004.0            2    1       0   \n",
              "2            3  ...            900.0            2    1       2   \n",
              "3            3  ...            973.0            1    1       1   \n",
              "4            3  ...            795.0            2    1       0   \n",
              "...        ...  ...              ...          ...  ...     ...   \n",
              "1105         3  ...            798.0            2    1       1   \n",
              "1106         3  ...            369.0            2    1       2   \n",
              "1107         3  ...            713.0            2    1       2   \n",
              "1108         3  ...            786.0            2    1       0   \n",
              "1109         3  ...            459.0            2    1       1   \n",
              "\n",
              "      Somatic Status  Specimen Stage  Systemic Treatment  TMB (nonsynonymous)  \\\n",
              "0                  0             4.0                   1            13.309864   \n",
              "1                  0             3.0                   1             5.545777   \n",
              "2                  0             3.0                   1            15.528174   \n",
              "3                  0             4.0                   0             3.327466   \n",
              "4                  0             3.0                   1             9.982398   \n",
              "...              ...             ...                 ...                  ...   \n",
              "1105               0             3.0                   0             2.594094   \n",
              "1106               0             3.0                   0             3.458792   \n",
              "1107               0             3.0                   0             2.594094   \n",
              "1108               0             2.0                   0            50.152490   \n",
              "1109               0             3.0                   0            16.429264   \n",
              "\n",
              "      Tumor Purity  Overall Survival Status  \n",
              "0               40                        1  \n",
              "1               60                        1  \n",
              "2               70                        0  \n",
              "3               20                        1  \n",
              "4               30                        1  \n",
              "...            ...                      ...  \n",
              "1105            40                        0  \n",
              "1106            20                        0  \n",
              "1107            30                        0  \n",
              "1108            70                        0  \n",
              "1109            10                        0  \n",
              "\n",
              "[1110 rows x 29 columns]"
            ],
            "text/html": [
              "\n",
              "  <div id=\"df-4b9e69e9-9627-41ad-b6bf-197965176ebc\" class=\"colab-df-container\">\n",
              "    <div>\n",
              "<style scoped>\n",
              "    .dataframe tbody tr th:only-of-type {\n",
              "        vertical-align: middle;\n",
              "    }\n",
              "\n",
              "    .dataframe tbody tr th {\n",
              "        vertical-align: top;\n",
              "    }\n",
              "\n",
              "    .dataframe thead th {\n",
              "        text-align: right;\n",
              "    }\n",
              "</style>\n",
              "<table border=\"1\" class=\"dataframe\">\n",
              "  <thead>\n",
              "    <tr style=\"text-align: right;\">\n",
              "      <th></th>\n",
              "      <th>Age at Diagnosis</th>\n",
              "      <th>Age at Which Sequencing was Reported (Years)</th>\n",
              "      <th>Cancer Type</th>\n",
              "      <th>Cancer Type Detailed</th>\n",
              "      <th>Ethnicity Category</th>\n",
              "      <th>Fraction Genome Altered</th>\n",
              "      <th>Gene Panel</th>\n",
              "      <th>Intravesical Treatment</th>\n",
              "      <th>MSI Score</th>\n",
              "      <th>MSI Type</th>\n",
              "      <th>...</th>\n",
              "      <th>Sample coverage</th>\n",
              "      <th>Sample Type</th>\n",
              "      <th>Sex</th>\n",
              "      <th>Smoker</th>\n",
              "      <th>Somatic Status</th>\n",
              "      <th>Specimen Stage</th>\n",
              "      <th>Systemic Treatment</th>\n",
              "      <th>TMB (nonsynonymous)</th>\n",
              "      <th>Tumor Purity</th>\n",
              "      <th>Overall Survival Status</th>\n",
              "    </tr>\n",
              "  </thead>\n",
              "  <tbody>\n",
              "    <tr>\n",
              "      <th>0</th>\n",
              "      <td>75.0</td>\n",
              "      <td>78</td>\n",
              "      <td>0</td>\n",
              "      <td>1</td>\n",
              "      <td>2</td>\n",
              "      <td>0.1591</td>\n",
              "      <td>0</td>\n",
              "      <td>0</td>\n",
              "      <td>0.08</td>\n",
              "      <td>3</td>\n",
              "      <td>...</td>\n",
              "      <td>461.0</td>\n",
              "      <td>2</td>\n",
              "      <td>1</td>\n",
              "      <td>1</td>\n",
              "      <td>0</td>\n",
              "      <td>4.0</td>\n",
              "      <td>1</td>\n",
              "      <td>13.309864</td>\n",
              "      <td>40</td>\n",
              "      <td>1</td>\n",
              "    </tr>\n",
              "    <tr>\n",
              "      <th>1</th>\n",
              "      <td>57.0</td>\n",
              "      <td>60</td>\n",
              "      <td>0</td>\n",
              "      <td>1</td>\n",
              "      <td>2</td>\n",
              "      <td>0.0689</td>\n",
              "      <td>0</td>\n",
              "      <td>0</td>\n",
              "      <td>0.63</td>\n",
              "      <td>3</td>\n",
              "      <td>...</td>\n",
              "      <td>1004.0</td>\n",
              "      <td>2</td>\n",
              "      <td>1</td>\n",
              "      <td>0</td>\n",
              "      <td>0</td>\n",
              "      <td>3.0</td>\n",
              "      <td>1</td>\n",
              "      <td>5.545777</td>\n",
              "      <td>60</td>\n",
              "      <td>1</td>\n",
              "    </tr>\n",
              "    <tr>\n",
              "      <th>2</th>\n",
              "      <td>61.0</td>\n",
              "      <td>63</td>\n",
              "      <td>0</td>\n",
              "      <td>1</td>\n",
              "      <td>2</td>\n",
              "      <td>0.5047</td>\n",
              "      <td>0</td>\n",
              "      <td>0</td>\n",
              "      <td>1.86</td>\n",
              "      <td>3</td>\n",
              "      <td>...</td>\n",
              "      <td>900.0</td>\n",
              "      <td>2</td>\n",
              "      <td>1</td>\n",
              "      <td>2</td>\n",
              "      <td>0</td>\n",
              "      <td>3.0</td>\n",
              "      <td>1</td>\n",
              "      <td>15.528174</td>\n",
              "      <td>70</td>\n",
              "      <td>0</td>\n",
              "    </tr>\n",
              "    <tr>\n",
              "      <th>3</th>\n",
              "      <td>77.0</td>\n",
              "      <td>80</td>\n",
              "      <td>0</td>\n",
              "      <td>1</td>\n",
              "      <td>2</td>\n",
              "      <td>0.0052</td>\n",
              "      <td>0</td>\n",
              "      <td>0</td>\n",
              "      <td>0.00</td>\n",
              "      <td>3</td>\n",
              "      <td>...</td>\n",
              "      <td>973.0</td>\n",
              "      <td>1</td>\n",
              "      <td>1</td>\n",
              "      <td>1</td>\n",
              "      <td>0</td>\n",
              "      <td>4.0</td>\n",
              "      <td>0</td>\n",
              "      <td>3.327466</td>\n",
              "      <td>20</td>\n",
              "      <td>1</td>\n",
              "    </tr>\n",
              "    <tr>\n",
              "      <th>4</th>\n",
              "      <td>64.0</td>\n",
              "      <td>67</td>\n",
              "      <td>0</td>\n",
              "      <td>1</td>\n",
              "      <td>2</td>\n",
              "      <td>0.0500</td>\n",
              "      <td>0</td>\n",
              "      <td>0</td>\n",
              "      <td>0.00</td>\n",
              "      <td>3</td>\n",
              "      <td>...</td>\n",
              "      <td>795.0</td>\n",
              "      <td>2</td>\n",
              "      <td>1</td>\n",
              "      <td>0</td>\n",
              "      <td>0</td>\n",
              "      <td>3.0</td>\n",
              "      <td>1</td>\n",
              "      <td>9.982398</td>\n",
              "      <td>30</td>\n",
              "      <td>1</td>\n",
              "    </tr>\n",
              "    <tr>\n",
              "      <th>...</th>\n",
              "      <td>...</td>\n",
              "      <td>...</td>\n",
              "      <td>...</td>\n",
              "      <td>...</td>\n",
              "      <td>...</td>\n",
              "      <td>...</td>\n",
              "      <td>...</td>\n",
              "      <td>...</td>\n",
              "      <td>...</td>\n",
              "      <td>...</td>\n",
              "      <td>...</td>\n",
              "      <td>...</td>\n",
              "      <td>...</td>\n",
              "      <td>...</td>\n",
              "      <td>...</td>\n",
              "      <td>...</td>\n",
              "      <td>...</td>\n",
              "      <td>...</td>\n",
              "      <td>...</td>\n",
              "      <td>...</td>\n",
              "      <td>...</td>\n",
              "    </tr>\n",
              "    <tr>\n",
              "      <th>1105</th>\n",
              "      <td>56.0</td>\n",
              "      <td>85</td>\n",
              "      <td>0</td>\n",
              "      <td>1</td>\n",
              "      <td>2</td>\n",
              "      <td>0.2786</td>\n",
              "      <td>2</td>\n",
              "      <td>1</td>\n",
              "      <td>0.11</td>\n",
              "      <td>3</td>\n",
              "      <td>...</td>\n",
              "      <td>798.0</td>\n",
              "      <td>2</td>\n",
              "      <td>1</td>\n",
              "      <td>1</td>\n",
              "      <td>0</td>\n",
              "      <td>3.0</td>\n",
              "      <td>0</td>\n",
              "      <td>2.594094</td>\n",
              "      <td>40</td>\n",
              "      <td>0</td>\n",
              "    </tr>\n",
              "    <tr>\n",
              "      <th>1106</th>\n",
              "      <td>70.0</td>\n",
              "      <td>72</td>\n",
              "      <td>0</td>\n",
              "      <td>1</td>\n",
              "      <td>2</td>\n",
              "      <td>0.0000</td>\n",
              "      <td>2</td>\n",
              "      <td>1</td>\n",
              "      <td>0.10</td>\n",
              "      <td>3</td>\n",
              "      <td>...</td>\n",
              "      <td>369.0</td>\n",
              "      <td>2</td>\n",
              "      <td>1</td>\n",
              "      <td>2</td>\n",
              "      <td>0</td>\n",
              "      <td>3.0</td>\n",
              "      <td>0</td>\n",
              "      <td>3.458792</td>\n",
              "      <td>20</td>\n",
              "      <td>0</td>\n",
              "    </tr>\n",
              "    <tr>\n",
              "      <th>1107</th>\n",
              "      <td>70.0</td>\n",
              "      <td>72</td>\n",
              "      <td>0</td>\n",
              "      <td>1</td>\n",
              "      <td>2</td>\n",
              "      <td>0.0272</td>\n",
              "      <td>2</td>\n",
              "      <td>1</td>\n",
              "      <td>0.83</td>\n",
              "      <td>3</td>\n",
              "      <td>...</td>\n",
              "      <td>713.0</td>\n",
              "      <td>2</td>\n",
              "      <td>1</td>\n",
              "      <td>2</td>\n",
              "      <td>0</td>\n",
              "      <td>3.0</td>\n",
              "      <td>0</td>\n",
              "      <td>2.594094</td>\n",
              "      <td>30</td>\n",
              "      <td>0</td>\n",
              "    </tr>\n",
              "    <tr>\n",
              "      <th>1108</th>\n",
              "      <td>76.0</td>\n",
              "      <td>77</td>\n",
              "      <td>0</td>\n",
              "      <td>1</td>\n",
              "      <td>2</td>\n",
              "      <td>0.0241</td>\n",
              "      <td>2</td>\n",
              "      <td>0</td>\n",
              "      <td>0.36</td>\n",
              "      <td>3</td>\n",
              "      <td>...</td>\n",
              "      <td>786.0</td>\n",
              "      <td>2</td>\n",
              "      <td>1</td>\n",
              "      <td>0</td>\n",
              "      <td>0</td>\n",
              "      <td>2.0</td>\n",
              "      <td>0</td>\n",
              "      <td>50.152490</td>\n",
              "      <td>70</td>\n",
              "      <td>0</td>\n",
              "    </tr>\n",
              "    <tr>\n",
              "      <th>1109</th>\n",
              "      <td>74.0</td>\n",
              "      <td>76</td>\n",
              "      <td>0</td>\n",
              "      <td>1</td>\n",
              "      <td>2</td>\n",
              "      <td>0.1357</td>\n",
              "      <td>2</td>\n",
              "      <td>1</td>\n",
              "      <td>0.05</td>\n",
              "      <td>3</td>\n",
              "      <td>...</td>\n",
              "      <td>459.0</td>\n",
              "      <td>2</td>\n",
              "      <td>1</td>\n",
              "      <td>1</td>\n",
              "      <td>0</td>\n",
              "      <td>3.0</td>\n",
              "      <td>0</td>\n",
              "      <td>16.429264</td>\n",
              "      <td>10</td>\n",
              "      <td>0</td>\n",
              "    </tr>\n",
              "  </tbody>\n",
              "</table>\n",
              "<p>1110 rows × 29 columns</p>\n",
              "</div>\n",
              "    <div class=\"colab-df-buttons\">\n",
              "\n",
              "  <div class=\"colab-df-container\">\n",
              "    <button class=\"colab-df-convert\" onclick=\"convertToInteractive('df-4b9e69e9-9627-41ad-b6bf-197965176ebc')\"\n",
              "            title=\"Convert this dataframe to an interactive table.\"\n",
              "            style=\"display:none;\">\n",
              "\n",
              "  <svg xmlns=\"http://www.w3.org/2000/svg\" height=\"24px\" viewBox=\"0 -960 960 960\">\n",
              "    <path d=\"M120-120v-720h720v720H120Zm60-500h600v-160H180v160Zm220 220h160v-160H400v160Zm0 220h160v-160H400v160ZM180-400h160v-160H180v160Zm440 0h160v-160H620v160ZM180-180h160v-160H180v160Zm440 0h160v-160H620v160Z\"/>\n",
              "  </svg>\n",
              "    </button>\n",
              "\n",
              "  <style>\n",
              "    .colab-df-container {\n",
              "      display:flex;\n",
              "      gap: 12px;\n",
              "    }\n",
              "\n",
              "    .colab-df-convert {\n",
              "      background-color: #E8F0FE;\n",
              "      border: none;\n",
              "      border-radius: 50%;\n",
              "      cursor: pointer;\n",
              "      display: none;\n",
              "      fill: #1967D2;\n",
              "      height: 32px;\n",
              "      padding: 0 0 0 0;\n",
              "      width: 32px;\n",
              "    }\n",
              "\n",
              "    .colab-df-convert:hover {\n",
              "      background-color: #E2EBFA;\n",
              "      box-shadow: 0px 1px 2px rgba(60, 64, 67, 0.3), 0px 1px 3px 1px rgba(60, 64, 67, 0.15);\n",
              "      fill: #174EA6;\n",
              "    }\n",
              "\n",
              "    .colab-df-buttons div {\n",
              "      margin-bottom: 4px;\n",
              "    }\n",
              "\n",
              "    [theme=dark] .colab-df-convert {\n",
              "      background-color: #3B4455;\n",
              "      fill: #D2E3FC;\n",
              "    }\n",
              "\n",
              "    [theme=dark] .colab-df-convert:hover {\n",
              "      background-color: #434B5C;\n",
              "      box-shadow: 0px 1px 3px 1px rgba(0, 0, 0, 0.15);\n",
              "      filter: drop-shadow(0px 1px 2px rgba(0, 0, 0, 0.3));\n",
              "      fill: #FFFFFF;\n",
              "    }\n",
              "  </style>\n",
              "\n",
              "    <script>\n",
              "      const buttonEl =\n",
              "        document.querySelector('#df-4b9e69e9-9627-41ad-b6bf-197965176ebc button.colab-df-convert');\n",
              "      buttonEl.style.display =\n",
              "        google.colab.kernel.accessAllowed ? 'block' : 'none';\n",
              "\n",
              "      async function convertToInteractive(key) {\n",
              "        const element = document.querySelector('#df-4b9e69e9-9627-41ad-b6bf-197965176ebc');\n",
              "        const dataTable =\n",
              "          await google.colab.kernel.invokeFunction('convertToInteractive',\n",
              "                                                    [key], {});\n",
              "        if (!dataTable) return;\n",
              "\n",
              "        const docLinkHtml = 'Like what you see? Visit the ' +\n",
              "          '<a target=\"_blank\" href=https://colab.research.google.com/notebooks/data_table.ipynb>data table notebook</a>'\n",
              "          + ' to learn more about interactive tables.';\n",
              "        element.innerHTML = '';\n",
              "        dataTable['output_type'] = 'display_data';\n",
              "        await google.colab.output.renderOutput(dataTable, element);\n",
              "        const docLink = document.createElement('div');\n",
              "        docLink.innerHTML = docLinkHtml;\n",
              "        element.appendChild(docLink);\n",
              "      }\n",
              "    </script>\n",
              "  </div>\n",
              "\n",
              "\n",
              "<div id=\"df-263b183c-c027-46ed-93d5-4943b9f5bbc9\">\n",
              "  <button class=\"colab-df-quickchart\" onclick=\"quickchart('df-263b183c-c027-46ed-93d5-4943b9f5bbc9')\"\n",
              "            title=\"Suggest charts\"\n",
              "            style=\"display:none;\">\n",
              "\n",
              "<svg xmlns=\"http://www.w3.org/2000/svg\" height=\"24px\"viewBox=\"0 0 24 24\"\n",
              "     width=\"24px\">\n",
              "    <g>\n",
              "        <path d=\"M19 3H5c-1.1 0-2 .9-2 2v14c0 1.1.9 2 2 2h14c1.1 0 2-.9 2-2V5c0-1.1-.9-2-2-2zM9 17H7v-7h2v7zm4 0h-2V7h2v10zm4 0h-2v-4h2v4z\"/>\n",
              "    </g>\n",
              "</svg>\n",
              "  </button>\n",
              "\n",
              "<style>\n",
              "  .colab-df-quickchart {\n",
              "      --bg-color: #E8F0FE;\n",
              "      --fill-color: #1967D2;\n",
              "      --hover-bg-color: #E2EBFA;\n",
              "      --hover-fill-color: #174EA6;\n",
              "      --disabled-fill-color: #AAA;\n",
              "      --disabled-bg-color: #DDD;\n",
              "  }\n",
              "\n",
              "  [theme=dark] .colab-df-quickchart {\n",
              "      --bg-color: #3B4455;\n",
              "      --fill-color: #D2E3FC;\n",
              "      --hover-bg-color: #434B5C;\n",
              "      --hover-fill-color: #FFFFFF;\n",
              "      --disabled-bg-color: #3B4455;\n",
              "      --disabled-fill-color: #666;\n",
              "  }\n",
              "\n",
              "  .colab-df-quickchart {\n",
              "    background-color: var(--bg-color);\n",
              "    border: none;\n",
              "    border-radius: 50%;\n",
              "    cursor: pointer;\n",
              "    display: none;\n",
              "    fill: var(--fill-color);\n",
              "    height: 32px;\n",
              "    padding: 0;\n",
              "    width: 32px;\n",
              "  }\n",
              "\n",
              "  .colab-df-quickchart:hover {\n",
              "    background-color: var(--hover-bg-color);\n",
              "    box-shadow: 0 1px 2px rgba(60, 64, 67, 0.3), 0 1px 3px 1px rgba(60, 64, 67, 0.15);\n",
              "    fill: var(--button-hover-fill-color);\n",
              "  }\n",
              "\n",
              "  .colab-df-quickchart-complete:disabled,\n",
              "  .colab-df-quickchart-complete:disabled:hover {\n",
              "    background-color: var(--disabled-bg-color);\n",
              "    fill: var(--disabled-fill-color);\n",
              "    box-shadow: none;\n",
              "  }\n",
              "\n",
              "  .colab-df-spinner {\n",
              "    border: 2px solid var(--fill-color);\n",
              "    border-color: transparent;\n",
              "    border-bottom-color: var(--fill-color);\n",
              "    animation:\n",
              "      spin 1s steps(1) infinite;\n",
              "  }\n",
              "\n",
              "  @keyframes spin {\n",
              "    0% {\n",
              "      border-color: transparent;\n",
              "      border-bottom-color: var(--fill-color);\n",
              "      border-left-color: var(--fill-color);\n",
              "    }\n",
              "    20% {\n",
              "      border-color: transparent;\n",
              "      border-left-color: var(--fill-color);\n",
              "      border-top-color: var(--fill-color);\n",
              "    }\n",
              "    30% {\n",
              "      border-color: transparent;\n",
              "      border-left-color: var(--fill-color);\n",
              "      border-top-color: var(--fill-color);\n",
              "      border-right-color: var(--fill-color);\n",
              "    }\n",
              "    40% {\n",
              "      border-color: transparent;\n",
              "      border-right-color: var(--fill-color);\n",
              "      border-top-color: var(--fill-color);\n",
              "    }\n",
              "    60% {\n",
              "      border-color: transparent;\n",
              "      border-right-color: var(--fill-color);\n",
              "    }\n",
              "    80% {\n",
              "      border-color: transparent;\n",
              "      border-right-color: var(--fill-color);\n",
              "      border-bottom-color: var(--fill-color);\n",
              "    }\n",
              "    90% {\n",
              "      border-color: transparent;\n",
              "      border-bottom-color: var(--fill-color);\n",
              "    }\n",
              "  }\n",
              "</style>\n",
              "\n",
              "  <script>\n",
              "    async function quickchart(key) {\n",
              "      const quickchartButtonEl =\n",
              "        document.querySelector('#' + key + ' button');\n",
              "      quickchartButtonEl.disabled = true;  // To prevent multiple clicks.\n",
              "      quickchartButtonEl.classList.add('colab-df-spinner');\n",
              "      try {\n",
              "        const charts = await google.colab.kernel.invokeFunction(\n",
              "            'suggestCharts', [key], {});\n",
              "      } catch (error) {\n",
              "        console.error('Error during call to suggestCharts:', error);\n",
              "      }\n",
              "      quickchartButtonEl.classList.remove('colab-df-spinner');\n",
              "      quickchartButtonEl.classList.add('colab-df-quickchart-complete');\n",
              "    }\n",
              "    (() => {\n",
              "      let quickchartButtonEl =\n",
              "        document.querySelector('#df-263b183c-c027-46ed-93d5-4943b9f5bbc9 button');\n",
              "      quickchartButtonEl.style.display =\n",
              "        google.colab.kernel.accessAllowed ? 'block' : 'none';\n",
              "    })();\n",
              "  </script>\n",
              "</div>\n",
              "\n",
              "  <div id=\"id_ee1c81ec-171f-4850-a418-ca72fd6204fb\">\n",
              "    <style>\n",
              "      .colab-df-generate {\n",
              "        background-color: #E8F0FE;\n",
              "        border: none;\n",
              "        border-radius: 50%;\n",
              "        cursor: pointer;\n",
              "        display: none;\n",
              "        fill: #1967D2;\n",
              "        height: 32px;\n",
              "        padding: 0 0 0 0;\n",
              "        width: 32px;\n",
              "      }\n",
              "\n",
              "      .colab-df-generate:hover {\n",
              "        background-color: #E2EBFA;\n",
              "        box-shadow: 0px 1px 2px rgba(60, 64, 67, 0.3), 0px 1px 3px 1px rgba(60, 64, 67, 0.15);\n",
              "        fill: #174EA6;\n",
              "      }\n",
              "\n",
              "      [theme=dark] .colab-df-generate {\n",
              "        background-color: #3B4455;\n",
              "        fill: #D2E3FC;\n",
              "      }\n",
              "\n",
              "      [theme=dark] .colab-df-generate:hover {\n",
              "        background-color: #434B5C;\n",
              "        box-shadow: 0px 1px 3px 1px rgba(0, 0, 0, 0.15);\n",
              "        filter: drop-shadow(0px 1px 2px rgba(0, 0, 0, 0.3));\n",
              "        fill: #FFFFFF;\n",
              "      }\n",
              "    </style>\n",
              "    <button class=\"colab-df-generate\" onclick=\"generateWithVariable('df')\"\n",
              "            title=\"Generate code using this dataframe.\"\n",
              "            style=\"display:none;\">\n",
              "\n",
              "  <svg xmlns=\"http://www.w3.org/2000/svg\" height=\"24px\"viewBox=\"0 0 24 24\"\n",
              "       width=\"24px\">\n",
              "    <path d=\"M7,19H8.4L18.45,9,17,7.55,7,17.6ZM5,21V16.75L18.45,3.32a2,2,0,0,1,2.83,0l1.4,1.43a1.91,1.91,0,0,1,.58,1.4,1.91,1.91,0,0,1-.58,1.4L9.25,21ZM18.45,9,17,7.55Zm-12,3A5.31,5.31,0,0,0,4.9,8.1,5.31,5.31,0,0,0,1,6.5,5.31,5.31,0,0,0,4.9,4.9,5.31,5.31,0,0,0,6.5,1,5.31,5.31,0,0,0,8.1,4.9,5.31,5.31,0,0,0,12,6.5,5.46,5.46,0,0,0,6.5,12Z\"/>\n",
              "  </svg>\n",
              "    </button>\n",
              "    <script>\n",
              "      (() => {\n",
              "      const buttonEl =\n",
              "        document.querySelector('#id_ee1c81ec-171f-4850-a418-ca72fd6204fb button.colab-df-generate');\n",
              "      buttonEl.style.display =\n",
              "        google.colab.kernel.accessAllowed ? 'block' : 'none';\n",
              "\n",
              "      buttonEl.onclick = () => {\n",
              "        google.colab.notebook.generateWithVariable('df');\n",
              "      }\n",
              "      })();\n",
              "    </script>\n",
              "  </div>\n",
              "\n",
              "    </div>\n",
              "  </div>\n"
            ]
          },
          "metadata": {},
          "execution_count": 32
        }
      ]
    },
    {
      "cell_type": "markdown",
      "source": [
        "#3. Class Imbalance Resolution"
      ],
      "metadata": {
        "id": "sjQvJSjFj-si"
      }
    },
    {
      "cell_type": "code",
      "source": [
        "#Count of Overall Survival Status\n",
        "fig_review = px.bar(df['Overall Survival Status'].value_counts().reset_index(),\n",
        "                          x='index', y='Overall Survival Status',\n",
        "                          labels={'index': 'Overall Survival Status', 'Overall Survival Status': 'Count'},\n",
        "                          title='Bar Plot for Overall Survival Status')\n",
        "fig_review.show()"
      ],
      "metadata": {
        "colab": {
          "base_uri": "https://localhost:8080/",
          "height": 542
        },
        "id": "_yE9CdygaCsp",
        "outputId": "d9da4e92-03b3-43ac-e002-cdb9626ab8df"
      },
      "execution_count": 33,
      "outputs": [
        {
          "output_type": "display_data",
          "data": {
            "text/html": [
              "<html>\n",
              "<head><meta charset=\"utf-8\" /></head>\n",
              "<body>\n",
              "    <div>            <script src=\"https://cdnjs.cloudflare.com/ajax/libs/mathjax/2.7.5/MathJax.js?config=TeX-AMS-MML_SVG\"></script><script type=\"text/javascript\">if (window.MathJax && window.MathJax.Hub && window.MathJax.Hub.Config) {window.MathJax.Hub.Config({SVG: {font: \"STIX-Web\"}});}</script>                <script type=\"text/javascript\">window.PlotlyConfig = {MathJaxConfig: 'local'};</script>\n",
              "        <script charset=\"utf-8\" src=\"https://cdn.plot.ly/plotly-2.24.1.min.js\"></script>                <div id=\"01cb816e-a8a1-4509-8260-802ba5aab65e\" class=\"plotly-graph-div\" style=\"height:525px; width:100%;\"></div>            <script type=\"text/javascript\">                                    window.PLOTLYENV=window.PLOTLYENV || {};                                    if (document.getElementById(\"01cb816e-a8a1-4509-8260-802ba5aab65e\")) {                    Plotly.newPlot(                        \"01cb816e-a8a1-4509-8260-802ba5aab65e\",                        [{\"alignmentgroup\":\"True\",\"hovertemplate\":\"Overall Survival Status=%{x}\\u003cbr\\u003eCount=%{y}\\u003cextra\\u003e\\u003c\\u002fextra\\u003e\",\"legendgroup\":\"\",\"marker\":{\"color\":\"#636efa\",\"pattern\":{\"shape\":\"\"}},\"name\":\"\",\"offsetgroup\":\"\",\"orientation\":\"v\",\"showlegend\":false,\"textposition\":\"auto\",\"x\":[0,1],\"xaxis\":\"x\",\"y\":[714,396],\"yaxis\":\"y\",\"type\":\"bar\"}],                        {\"template\":{\"data\":{\"histogram2dcontour\":[{\"type\":\"histogram2dcontour\",\"colorbar\":{\"outlinewidth\":0,\"ticks\":\"\"},\"colorscale\":[[0.0,\"#0d0887\"],[0.1111111111111111,\"#46039f\"],[0.2222222222222222,\"#7201a8\"],[0.3333333333333333,\"#9c179e\"],[0.4444444444444444,\"#bd3786\"],[0.5555555555555556,\"#d8576b\"],[0.6666666666666666,\"#ed7953\"],[0.7777777777777778,\"#fb9f3a\"],[0.8888888888888888,\"#fdca26\"],[1.0,\"#f0f921\"]]}],\"choropleth\":[{\"type\":\"choropleth\",\"colorbar\":{\"outlinewidth\":0,\"ticks\":\"\"}}],\"histogram2d\":[{\"type\":\"histogram2d\",\"colorbar\":{\"outlinewidth\":0,\"ticks\":\"\"},\"colorscale\":[[0.0,\"#0d0887\"],[0.1111111111111111,\"#46039f\"],[0.2222222222222222,\"#7201a8\"],[0.3333333333333333,\"#9c179e\"],[0.4444444444444444,\"#bd3786\"],[0.5555555555555556,\"#d8576b\"],[0.6666666666666666,\"#ed7953\"],[0.7777777777777778,\"#fb9f3a\"],[0.8888888888888888,\"#fdca26\"],[1.0,\"#f0f921\"]]}],\"heatmap\":[{\"type\":\"heatmap\",\"colorbar\":{\"outlinewidth\":0,\"ticks\":\"\"},\"colorscale\":[[0.0,\"#0d0887\"],[0.1111111111111111,\"#46039f\"],[0.2222222222222222,\"#7201a8\"],[0.3333333333333333,\"#9c179e\"],[0.4444444444444444,\"#bd3786\"],[0.5555555555555556,\"#d8576b\"],[0.6666666666666666,\"#ed7953\"],[0.7777777777777778,\"#fb9f3a\"],[0.8888888888888888,\"#fdca26\"],[1.0,\"#f0f921\"]]}],\"heatmapgl\":[{\"type\":\"heatmapgl\",\"colorbar\":{\"outlinewidth\":0,\"ticks\":\"\"},\"colorscale\":[[0.0,\"#0d0887\"],[0.1111111111111111,\"#46039f\"],[0.2222222222222222,\"#7201a8\"],[0.3333333333333333,\"#9c179e\"],[0.4444444444444444,\"#bd3786\"],[0.5555555555555556,\"#d8576b\"],[0.6666666666666666,\"#ed7953\"],[0.7777777777777778,\"#fb9f3a\"],[0.8888888888888888,\"#fdca26\"],[1.0,\"#f0f921\"]]}],\"contourcarpet\":[{\"type\":\"contourcarpet\",\"colorbar\":{\"outlinewidth\":0,\"ticks\":\"\"}}],\"contour\":[{\"type\":\"contour\",\"colorbar\":{\"outlinewidth\":0,\"ticks\":\"\"},\"colorscale\":[[0.0,\"#0d0887\"],[0.1111111111111111,\"#46039f\"],[0.2222222222222222,\"#7201a8\"],[0.3333333333333333,\"#9c179e\"],[0.4444444444444444,\"#bd3786\"],[0.5555555555555556,\"#d8576b\"],[0.6666666666666666,\"#ed7953\"],[0.7777777777777778,\"#fb9f3a\"],[0.8888888888888888,\"#fdca26\"],[1.0,\"#f0f921\"]]}],\"surface\":[{\"type\":\"surface\",\"colorbar\":{\"outlinewidth\":0,\"ticks\":\"\"},\"colorscale\":[[0.0,\"#0d0887\"],[0.1111111111111111,\"#46039f\"],[0.2222222222222222,\"#7201a8\"],[0.3333333333333333,\"#9c179e\"],[0.4444444444444444,\"#bd3786\"],[0.5555555555555556,\"#d8576b\"],[0.6666666666666666,\"#ed7953\"],[0.7777777777777778,\"#fb9f3a\"],[0.8888888888888888,\"#fdca26\"],[1.0,\"#f0f921\"]]}],\"mesh3d\":[{\"type\":\"mesh3d\",\"colorbar\":{\"outlinewidth\":0,\"ticks\":\"\"}}],\"scatter\":[{\"fillpattern\":{\"fillmode\":\"overlay\",\"size\":10,\"solidity\":0.2},\"type\":\"scatter\"}],\"parcoords\":[{\"type\":\"parcoords\",\"line\":{\"colorbar\":{\"outlinewidth\":0,\"ticks\":\"\"}}}],\"scatterpolargl\":[{\"type\":\"scatterpolargl\",\"marker\":{\"colorbar\":{\"outlinewidth\":0,\"ticks\":\"\"}}}],\"bar\":[{\"error_x\":{\"color\":\"#2a3f5f\"},\"error_y\":{\"color\":\"#2a3f5f\"},\"marker\":{\"line\":{\"color\":\"#E5ECF6\",\"width\":0.5},\"pattern\":{\"fillmode\":\"overlay\",\"size\":10,\"solidity\":0.2}},\"type\":\"bar\"}],\"scattergeo\":[{\"type\":\"scattergeo\",\"marker\":{\"colorbar\":{\"outlinewidth\":0,\"ticks\":\"\"}}}],\"scatterpolar\":[{\"type\":\"scatterpolar\",\"marker\":{\"colorbar\":{\"outlinewidth\":0,\"ticks\":\"\"}}}],\"histogram\":[{\"marker\":{\"pattern\":{\"fillmode\":\"overlay\",\"size\":10,\"solidity\":0.2}},\"type\":\"histogram\"}],\"scattergl\":[{\"type\":\"scattergl\",\"marker\":{\"colorbar\":{\"outlinewidth\":0,\"ticks\":\"\"}}}],\"scatter3d\":[{\"type\":\"scatter3d\",\"line\":{\"colorbar\":{\"outlinewidth\":0,\"ticks\":\"\"}},\"marker\":{\"colorbar\":{\"outlinewidth\":0,\"ticks\":\"\"}}}],\"scattermapbox\":[{\"type\":\"scattermapbox\",\"marker\":{\"colorbar\":{\"outlinewidth\":0,\"ticks\":\"\"}}}],\"scatterternary\":[{\"type\":\"scatterternary\",\"marker\":{\"colorbar\":{\"outlinewidth\":0,\"ticks\":\"\"}}}],\"scattercarpet\":[{\"type\":\"scattercarpet\",\"marker\":{\"colorbar\":{\"outlinewidth\":0,\"ticks\":\"\"}}}],\"carpet\":[{\"aaxis\":{\"endlinecolor\":\"#2a3f5f\",\"gridcolor\":\"white\",\"linecolor\":\"white\",\"minorgridcolor\":\"white\",\"startlinecolor\":\"#2a3f5f\"},\"baxis\":{\"endlinecolor\":\"#2a3f5f\",\"gridcolor\":\"white\",\"linecolor\":\"white\",\"minorgridcolor\":\"white\",\"startlinecolor\":\"#2a3f5f\"},\"type\":\"carpet\"}],\"table\":[{\"cells\":{\"fill\":{\"color\":\"#EBF0F8\"},\"line\":{\"color\":\"white\"}},\"header\":{\"fill\":{\"color\":\"#C8D4E3\"},\"line\":{\"color\":\"white\"}},\"type\":\"table\"}],\"barpolar\":[{\"marker\":{\"line\":{\"color\":\"#E5ECF6\",\"width\":0.5},\"pattern\":{\"fillmode\":\"overlay\",\"size\":10,\"solidity\":0.2}},\"type\":\"barpolar\"}],\"pie\":[{\"automargin\":true,\"type\":\"pie\"}]},\"layout\":{\"autotypenumbers\":\"strict\",\"colorway\":[\"#636efa\",\"#EF553B\",\"#00cc96\",\"#ab63fa\",\"#FFA15A\",\"#19d3f3\",\"#FF6692\",\"#B6E880\",\"#FF97FF\",\"#FECB52\"],\"font\":{\"color\":\"#2a3f5f\"},\"hovermode\":\"closest\",\"hoverlabel\":{\"align\":\"left\"},\"paper_bgcolor\":\"white\",\"plot_bgcolor\":\"#E5ECF6\",\"polar\":{\"bgcolor\":\"#E5ECF6\",\"angularaxis\":{\"gridcolor\":\"white\",\"linecolor\":\"white\",\"ticks\":\"\"},\"radialaxis\":{\"gridcolor\":\"white\",\"linecolor\":\"white\",\"ticks\":\"\"}},\"ternary\":{\"bgcolor\":\"#E5ECF6\",\"aaxis\":{\"gridcolor\":\"white\",\"linecolor\":\"white\",\"ticks\":\"\"},\"baxis\":{\"gridcolor\":\"white\",\"linecolor\":\"white\",\"ticks\":\"\"},\"caxis\":{\"gridcolor\":\"white\",\"linecolor\":\"white\",\"ticks\":\"\"}},\"coloraxis\":{\"colorbar\":{\"outlinewidth\":0,\"ticks\":\"\"}},\"colorscale\":{\"sequential\":[[0.0,\"#0d0887\"],[0.1111111111111111,\"#46039f\"],[0.2222222222222222,\"#7201a8\"],[0.3333333333333333,\"#9c179e\"],[0.4444444444444444,\"#bd3786\"],[0.5555555555555556,\"#d8576b\"],[0.6666666666666666,\"#ed7953\"],[0.7777777777777778,\"#fb9f3a\"],[0.8888888888888888,\"#fdca26\"],[1.0,\"#f0f921\"]],\"sequentialminus\":[[0.0,\"#0d0887\"],[0.1111111111111111,\"#46039f\"],[0.2222222222222222,\"#7201a8\"],[0.3333333333333333,\"#9c179e\"],[0.4444444444444444,\"#bd3786\"],[0.5555555555555556,\"#d8576b\"],[0.6666666666666666,\"#ed7953\"],[0.7777777777777778,\"#fb9f3a\"],[0.8888888888888888,\"#fdca26\"],[1.0,\"#f0f921\"]],\"diverging\":[[0,\"#8e0152\"],[0.1,\"#c51b7d\"],[0.2,\"#de77ae\"],[0.3,\"#f1b6da\"],[0.4,\"#fde0ef\"],[0.5,\"#f7f7f7\"],[0.6,\"#e6f5d0\"],[0.7,\"#b8e186\"],[0.8,\"#7fbc41\"],[0.9,\"#4d9221\"],[1,\"#276419\"]]},\"xaxis\":{\"gridcolor\":\"white\",\"linecolor\":\"white\",\"ticks\":\"\",\"title\":{\"standoff\":15},\"zerolinecolor\":\"white\",\"automargin\":true,\"zerolinewidth\":2},\"yaxis\":{\"gridcolor\":\"white\",\"linecolor\":\"white\",\"ticks\":\"\",\"title\":{\"standoff\":15},\"zerolinecolor\":\"white\",\"automargin\":true,\"zerolinewidth\":2},\"scene\":{\"xaxis\":{\"backgroundcolor\":\"#E5ECF6\",\"gridcolor\":\"white\",\"linecolor\":\"white\",\"showbackground\":true,\"ticks\":\"\",\"zerolinecolor\":\"white\",\"gridwidth\":2},\"yaxis\":{\"backgroundcolor\":\"#E5ECF6\",\"gridcolor\":\"white\",\"linecolor\":\"white\",\"showbackground\":true,\"ticks\":\"\",\"zerolinecolor\":\"white\",\"gridwidth\":2},\"zaxis\":{\"backgroundcolor\":\"#E5ECF6\",\"gridcolor\":\"white\",\"linecolor\":\"white\",\"showbackground\":true,\"ticks\":\"\",\"zerolinecolor\":\"white\",\"gridwidth\":2}},\"shapedefaults\":{\"line\":{\"color\":\"#2a3f5f\"}},\"annotationdefaults\":{\"arrowcolor\":\"#2a3f5f\",\"arrowhead\":0,\"arrowwidth\":1},\"geo\":{\"bgcolor\":\"white\",\"landcolor\":\"#E5ECF6\",\"subunitcolor\":\"white\",\"showland\":true,\"showlakes\":true,\"lakecolor\":\"white\"},\"title\":{\"x\":0.05},\"mapbox\":{\"style\":\"light\"}}},\"xaxis\":{\"anchor\":\"y\",\"domain\":[0.0,1.0],\"title\":{\"text\":\"Overall Survival Status\"}},\"yaxis\":{\"anchor\":\"x\",\"domain\":[0.0,1.0],\"title\":{\"text\":\"Count\"}},\"legend\":{\"tracegroupgap\":0},\"title\":{\"text\":\"Bar Plot for Overall Survival Status\"},\"barmode\":\"relative\"},                        {\"responsive\": true}                    ).then(function(){\n",
              "                            \n",
              "var gd = document.getElementById('01cb816e-a8a1-4509-8260-802ba5aab65e');\n",
              "var x = new MutationObserver(function (mutations, observer) {{\n",
              "        var display = window.getComputedStyle(gd).display;\n",
              "        if (!display || display === 'none') {{\n",
              "            console.log([gd, 'removed!']);\n",
              "            Plotly.purge(gd);\n",
              "            observer.disconnect();\n",
              "        }}\n",
              "}});\n",
              "\n",
              "// Listen for the removal of the full notebook cells\n",
              "var notebookContainer = gd.closest('#notebook-container');\n",
              "if (notebookContainer) {{\n",
              "    x.observe(notebookContainer, {childList: true});\n",
              "}}\n",
              "\n",
              "// Listen for the clearing of the current output cell\n",
              "var outputEl = gd.closest('.output');\n",
              "if (outputEl) {{\n",
              "    x.observe(outputEl, {childList: true});\n",
              "}}\n",
              "\n",
              "                        })                };                            </script>        </div>\n",
              "</body>\n",
              "</html>"
            ]
          },
          "metadata": {}
        }
      ]
    },
    {
      "cell_type": "code",
      "source": [
        "#Undersampling Class 0\n",
        "undersample_count = 396\n",
        "\n",
        "X = df.drop(columns=['Overall Survival Status'])\n",
        "y = df['Overall Survival Status']\n",
        "\n",
        "# Apply random undersampling to class 0\n",
        "undersampler = RandomUnderSampler(sampling_strategy={0: undersample_count})\n",
        "X_resampled, y_resampled = undersampler.fit_resample(X, y)\n",
        "\n",
        "dfun = pd.concat([X_resampled, y_resampled], axis=1)"
      ],
      "metadata": {
        "id": "t74rss6BaCxE"
      },
      "execution_count": 34,
      "outputs": []
    },
    {
      "cell_type": "code",
      "source": [
        "#Count of Overall Survival Status\n",
        "fig_review = px.bar(dfun['Overall Survival Status'].value_counts().reset_index(),\n",
        "                          x='index', y='Overall Survival Status',\n",
        "                          labels={'index': 'Overall Survival Status', 'Overall Survival Status': 'Count'},\n",
        "                          title='Bar Plot for Overall Survival Status')\n",
        "fig_review.show()"
      ],
      "metadata": {
        "colab": {
          "base_uri": "https://localhost:8080/",
          "height": 542
        },
        "id": "QYE2ryHeleM5",
        "outputId": "ed2c7be8-e48b-4b46-c4a0-738b8b37977c"
      },
      "execution_count": 35,
      "outputs": [
        {
          "output_type": "display_data",
          "data": {
            "text/html": [
              "<html>\n",
              "<head><meta charset=\"utf-8\" /></head>\n",
              "<body>\n",
              "    <div>            <script src=\"https://cdnjs.cloudflare.com/ajax/libs/mathjax/2.7.5/MathJax.js?config=TeX-AMS-MML_SVG\"></script><script type=\"text/javascript\">if (window.MathJax && window.MathJax.Hub && window.MathJax.Hub.Config) {window.MathJax.Hub.Config({SVG: {font: \"STIX-Web\"}});}</script>                <script type=\"text/javascript\">window.PlotlyConfig = {MathJaxConfig: 'local'};</script>\n",
              "        <script charset=\"utf-8\" src=\"https://cdn.plot.ly/plotly-2.24.1.min.js\"></script>                <div id=\"8bcf205d-8b12-4322-8340-e1889712e39e\" class=\"plotly-graph-div\" style=\"height:525px; width:100%;\"></div>            <script type=\"text/javascript\">                                    window.PLOTLYENV=window.PLOTLYENV || {};                                    if (document.getElementById(\"8bcf205d-8b12-4322-8340-e1889712e39e\")) {                    Plotly.newPlot(                        \"8bcf205d-8b12-4322-8340-e1889712e39e\",                        [{\"alignmentgroup\":\"True\",\"hovertemplate\":\"Overall Survival Status=%{x}\\u003cbr\\u003eCount=%{y}\\u003cextra\\u003e\\u003c\\u002fextra\\u003e\",\"legendgroup\":\"\",\"marker\":{\"color\":\"#636efa\",\"pattern\":{\"shape\":\"\"}},\"name\":\"\",\"offsetgroup\":\"\",\"orientation\":\"v\",\"showlegend\":false,\"textposition\":\"auto\",\"x\":[0,1],\"xaxis\":\"x\",\"y\":[396,396],\"yaxis\":\"y\",\"type\":\"bar\"}],                        {\"template\":{\"data\":{\"histogram2dcontour\":[{\"type\":\"histogram2dcontour\",\"colorbar\":{\"outlinewidth\":0,\"ticks\":\"\"},\"colorscale\":[[0.0,\"#0d0887\"],[0.1111111111111111,\"#46039f\"],[0.2222222222222222,\"#7201a8\"],[0.3333333333333333,\"#9c179e\"],[0.4444444444444444,\"#bd3786\"],[0.5555555555555556,\"#d8576b\"],[0.6666666666666666,\"#ed7953\"],[0.7777777777777778,\"#fb9f3a\"],[0.8888888888888888,\"#fdca26\"],[1.0,\"#f0f921\"]]}],\"choropleth\":[{\"type\":\"choropleth\",\"colorbar\":{\"outlinewidth\":0,\"ticks\":\"\"}}],\"histogram2d\":[{\"type\":\"histogram2d\",\"colorbar\":{\"outlinewidth\":0,\"ticks\":\"\"},\"colorscale\":[[0.0,\"#0d0887\"],[0.1111111111111111,\"#46039f\"],[0.2222222222222222,\"#7201a8\"],[0.3333333333333333,\"#9c179e\"],[0.4444444444444444,\"#bd3786\"],[0.5555555555555556,\"#d8576b\"],[0.6666666666666666,\"#ed7953\"],[0.7777777777777778,\"#fb9f3a\"],[0.8888888888888888,\"#fdca26\"],[1.0,\"#f0f921\"]]}],\"heatmap\":[{\"type\":\"heatmap\",\"colorbar\":{\"outlinewidth\":0,\"ticks\":\"\"},\"colorscale\":[[0.0,\"#0d0887\"],[0.1111111111111111,\"#46039f\"],[0.2222222222222222,\"#7201a8\"],[0.3333333333333333,\"#9c179e\"],[0.4444444444444444,\"#bd3786\"],[0.5555555555555556,\"#d8576b\"],[0.6666666666666666,\"#ed7953\"],[0.7777777777777778,\"#fb9f3a\"],[0.8888888888888888,\"#fdca26\"],[1.0,\"#f0f921\"]]}],\"heatmapgl\":[{\"type\":\"heatmapgl\",\"colorbar\":{\"outlinewidth\":0,\"ticks\":\"\"},\"colorscale\":[[0.0,\"#0d0887\"],[0.1111111111111111,\"#46039f\"],[0.2222222222222222,\"#7201a8\"],[0.3333333333333333,\"#9c179e\"],[0.4444444444444444,\"#bd3786\"],[0.5555555555555556,\"#d8576b\"],[0.6666666666666666,\"#ed7953\"],[0.7777777777777778,\"#fb9f3a\"],[0.8888888888888888,\"#fdca26\"],[1.0,\"#f0f921\"]]}],\"contourcarpet\":[{\"type\":\"contourcarpet\",\"colorbar\":{\"outlinewidth\":0,\"ticks\":\"\"}}],\"contour\":[{\"type\":\"contour\",\"colorbar\":{\"outlinewidth\":0,\"ticks\":\"\"},\"colorscale\":[[0.0,\"#0d0887\"],[0.1111111111111111,\"#46039f\"],[0.2222222222222222,\"#7201a8\"],[0.3333333333333333,\"#9c179e\"],[0.4444444444444444,\"#bd3786\"],[0.5555555555555556,\"#d8576b\"],[0.6666666666666666,\"#ed7953\"],[0.7777777777777778,\"#fb9f3a\"],[0.8888888888888888,\"#fdca26\"],[1.0,\"#f0f921\"]]}],\"surface\":[{\"type\":\"surface\",\"colorbar\":{\"outlinewidth\":0,\"ticks\":\"\"},\"colorscale\":[[0.0,\"#0d0887\"],[0.1111111111111111,\"#46039f\"],[0.2222222222222222,\"#7201a8\"],[0.3333333333333333,\"#9c179e\"],[0.4444444444444444,\"#bd3786\"],[0.5555555555555556,\"#d8576b\"],[0.6666666666666666,\"#ed7953\"],[0.7777777777777778,\"#fb9f3a\"],[0.8888888888888888,\"#fdca26\"],[1.0,\"#f0f921\"]]}],\"mesh3d\":[{\"type\":\"mesh3d\",\"colorbar\":{\"outlinewidth\":0,\"ticks\":\"\"}}],\"scatter\":[{\"fillpattern\":{\"fillmode\":\"overlay\",\"size\":10,\"solidity\":0.2},\"type\":\"scatter\"}],\"parcoords\":[{\"type\":\"parcoords\",\"line\":{\"colorbar\":{\"outlinewidth\":0,\"ticks\":\"\"}}}],\"scatterpolargl\":[{\"type\":\"scatterpolargl\",\"marker\":{\"colorbar\":{\"outlinewidth\":0,\"ticks\":\"\"}}}],\"bar\":[{\"error_x\":{\"color\":\"#2a3f5f\"},\"error_y\":{\"color\":\"#2a3f5f\"},\"marker\":{\"line\":{\"color\":\"#E5ECF6\",\"width\":0.5},\"pattern\":{\"fillmode\":\"overlay\",\"size\":10,\"solidity\":0.2}},\"type\":\"bar\"}],\"scattergeo\":[{\"type\":\"scattergeo\",\"marker\":{\"colorbar\":{\"outlinewidth\":0,\"ticks\":\"\"}}}],\"scatterpolar\":[{\"type\":\"scatterpolar\",\"marker\":{\"colorbar\":{\"outlinewidth\":0,\"ticks\":\"\"}}}],\"histogram\":[{\"marker\":{\"pattern\":{\"fillmode\":\"overlay\",\"size\":10,\"solidity\":0.2}},\"type\":\"histogram\"}],\"scattergl\":[{\"type\":\"scattergl\",\"marker\":{\"colorbar\":{\"outlinewidth\":0,\"ticks\":\"\"}}}],\"scatter3d\":[{\"type\":\"scatter3d\",\"line\":{\"colorbar\":{\"outlinewidth\":0,\"ticks\":\"\"}},\"marker\":{\"colorbar\":{\"outlinewidth\":0,\"ticks\":\"\"}}}],\"scattermapbox\":[{\"type\":\"scattermapbox\",\"marker\":{\"colorbar\":{\"outlinewidth\":0,\"ticks\":\"\"}}}],\"scatterternary\":[{\"type\":\"scatterternary\",\"marker\":{\"colorbar\":{\"outlinewidth\":0,\"ticks\":\"\"}}}],\"scattercarpet\":[{\"type\":\"scattercarpet\",\"marker\":{\"colorbar\":{\"outlinewidth\":0,\"ticks\":\"\"}}}],\"carpet\":[{\"aaxis\":{\"endlinecolor\":\"#2a3f5f\",\"gridcolor\":\"white\",\"linecolor\":\"white\",\"minorgridcolor\":\"white\",\"startlinecolor\":\"#2a3f5f\"},\"baxis\":{\"endlinecolor\":\"#2a3f5f\",\"gridcolor\":\"white\",\"linecolor\":\"white\",\"minorgridcolor\":\"white\",\"startlinecolor\":\"#2a3f5f\"},\"type\":\"carpet\"}],\"table\":[{\"cells\":{\"fill\":{\"color\":\"#EBF0F8\"},\"line\":{\"color\":\"white\"}},\"header\":{\"fill\":{\"color\":\"#C8D4E3\"},\"line\":{\"color\":\"white\"}},\"type\":\"table\"}],\"barpolar\":[{\"marker\":{\"line\":{\"color\":\"#E5ECF6\",\"width\":0.5},\"pattern\":{\"fillmode\":\"overlay\",\"size\":10,\"solidity\":0.2}},\"type\":\"barpolar\"}],\"pie\":[{\"automargin\":true,\"type\":\"pie\"}]},\"layout\":{\"autotypenumbers\":\"strict\",\"colorway\":[\"#636efa\",\"#EF553B\",\"#00cc96\",\"#ab63fa\",\"#FFA15A\",\"#19d3f3\",\"#FF6692\",\"#B6E880\",\"#FF97FF\",\"#FECB52\"],\"font\":{\"color\":\"#2a3f5f\"},\"hovermode\":\"closest\",\"hoverlabel\":{\"align\":\"left\"},\"paper_bgcolor\":\"white\",\"plot_bgcolor\":\"#E5ECF6\",\"polar\":{\"bgcolor\":\"#E5ECF6\",\"angularaxis\":{\"gridcolor\":\"white\",\"linecolor\":\"white\",\"ticks\":\"\"},\"radialaxis\":{\"gridcolor\":\"white\",\"linecolor\":\"white\",\"ticks\":\"\"}},\"ternary\":{\"bgcolor\":\"#E5ECF6\",\"aaxis\":{\"gridcolor\":\"white\",\"linecolor\":\"white\",\"ticks\":\"\"},\"baxis\":{\"gridcolor\":\"white\",\"linecolor\":\"white\",\"ticks\":\"\"},\"caxis\":{\"gridcolor\":\"white\",\"linecolor\":\"white\",\"ticks\":\"\"}},\"coloraxis\":{\"colorbar\":{\"outlinewidth\":0,\"ticks\":\"\"}},\"colorscale\":{\"sequential\":[[0.0,\"#0d0887\"],[0.1111111111111111,\"#46039f\"],[0.2222222222222222,\"#7201a8\"],[0.3333333333333333,\"#9c179e\"],[0.4444444444444444,\"#bd3786\"],[0.5555555555555556,\"#d8576b\"],[0.6666666666666666,\"#ed7953\"],[0.7777777777777778,\"#fb9f3a\"],[0.8888888888888888,\"#fdca26\"],[1.0,\"#f0f921\"]],\"sequentialminus\":[[0.0,\"#0d0887\"],[0.1111111111111111,\"#46039f\"],[0.2222222222222222,\"#7201a8\"],[0.3333333333333333,\"#9c179e\"],[0.4444444444444444,\"#bd3786\"],[0.5555555555555556,\"#d8576b\"],[0.6666666666666666,\"#ed7953\"],[0.7777777777777778,\"#fb9f3a\"],[0.8888888888888888,\"#fdca26\"],[1.0,\"#f0f921\"]],\"diverging\":[[0,\"#8e0152\"],[0.1,\"#c51b7d\"],[0.2,\"#de77ae\"],[0.3,\"#f1b6da\"],[0.4,\"#fde0ef\"],[0.5,\"#f7f7f7\"],[0.6,\"#e6f5d0\"],[0.7,\"#b8e186\"],[0.8,\"#7fbc41\"],[0.9,\"#4d9221\"],[1,\"#276419\"]]},\"xaxis\":{\"gridcolor\":\"white\",\"linecolor\":\"white\",\"ticks\":\"\",\"title\":{\"standoff\":15},\"zerolinecolor\":\"white\",\"automargin\":true,\"zerolinewidth\":2},\"yaxis\":{\"gridcolor\":\"white\",\"linecolor\":\"white\",\"ticks\":\"\",\"title\":{\"standoff\":15},\"zerolinecolor\":\"white\",\"automargin\":true,\"zerolinewidth\":2},\"scene\":{\"xaxis\":{\"backgroundcolor\":\"#E5ECF6\",\"gridcolor\":\"white\",\"linecolor\":\"white\",\"showbackground\":true,\"ticks\":\"\",\"zerolinecolor\":\"white\",\"gridwidth\":2},\"yaxis\":{\"backgroundcolor\":\"#E5ECF6\",\"gridcolor\":\"white\",\"linecolor\":\"white\",\"showbackground\":true,\"ticks\":\"\",\"zerolinecolor\":\"white\",\"gridwidth\":2},\"zaxis\":{\"backgroundcolor\":\"#E5ECF6\",\"gridcolor\":\"white\",\"linecolor\":\"white\",\"showbackground\":true,\"ticks\":\"\",\"zerolinecolor\":\"white\",\"gridwidth\":2}},\"shapedefaults\":{\"line\":{\"color\":\"#2a3f5f\"}},\"annotationdefaults\":{\"arrowcolor\":\"#2a3f5f\",\"arrowhead\":0,\"arrowwidth\":1},\"geo\":{\"bgcolor\":\"white\",\"landcolor\":\"#E5ECF6\",\"subunitcolor\":\"white\",\"showland\":true,\"showlakes\":true,\"lakecolor\":\"white\"},\"title\":{\"x\":0.05},\"mapbox\":{\"style\":\"light\"}}},\"xaxis\":{\"anchor\":\"y\",\"domain\":[0.0,1.0],\"title\":{\"text\":\"Overall Survival Status\"}},\"yaxis\":{\"anchor\":\"x\",\"domain\":[0.0,1.0],\"title\":{\"text\":\"Count\"}},\"legend\":{\"tracegroupgap\":0},\"title\":{\"text\":\"Bar Plot for Overall Survival Status\"},\"barmode\":\"relative\"},                        {\"responsive\": true}                    ).then(function(){\n",
              "                            \n",
              "var gd = document.getElementById('8bcf205d-8b12-4322-8340-e1889712e39e');\n",
              "var x = new MutationObserver(function (mutations, observer) {{\n",
              "        var display = window.getComputedStyle(gd).display;\n",
              "        if (!display || display === 'none') {{\n",
              "            console.log([gd, 'removed!']);\n",
              "            Plotly.purge(gd);\n",
              "            observer.disconnect();\n",
              "        }}\n",
              "}});\n",
              "\n",
              "// Listen for the removal of the full notebook cells\n",
              "var notebookContainer = gd.closest('#notebook-container');\n",
              "if (notebookContainer) {{\n",
              "    x.observe(notebookContainer, {childList: true});\n",
              "}}\n",
              "\n",
              "// Listen for the clearing of the current output cell\n",
              "var outputEl = gd.closest('.output');\n",
              "if (outputEl) {{\n",
              "    x.observe(outputEl, {childList: true});\n",
              "}}\n",
              "\n",
              "                        })                };                            </script>        </div>\n",
              "</body>\n",
              "</html>"
            ]
          },
          "metadata": {}
        }
      ]
    },
    {
      "cell_type": "code",
      "source": [],
      "metadata": {
        "id": "5OGaWSr8mbos"
      },
      "execution_count": 35,
      "outputs": []
    },
    {
      "cell_type": "markdown",
      "source": [
        "#4. Model Training and Evaluation (df)"
      ],
      "metadata": {
        "id": "apPdyA3ynBRb"
      }
    },
    {
      "cell_type": "markdown",
      "source": [
        "## Test Train Split"
      ],
      "metadata": {
        "id": "OkxG0uZanFIV"
      }
    },
    {
      "cell_type": "code",
      "source": [
        "X = df.drop(['Overall Survival Status'], axis = 1)\n",
        "y = df['Overall Survival Status']"
      ],
      "metadata": {
        "id": "NZweprcfmbrp"
      },
      "execution_count": 36,
      "outputs": []
    },
    {
      "cell_type": "code",
      "source": [
        "scaler = StandardScaler()\n",
        "X = scaler.fit_transform(X)"
      ],
      "metadata": {
        "id": "SERzHEGepjkg"
      },
      "execution_count": 37,
      "outputs": []
    },
    {
      "cell_type": "code",
      "source": [
        "X_train, X_test, y_train, y_test = train_test_split(X, y, test_size=0.2, random_state=1)"
      ],
      "metadata": {
        "id": "tzE9RmsGnprk"
      },
      "execution_count": 38,
      "outputs": []
    },
    {
      "cell_type": "markdown",
      "source": [
        "##a. Random Forest"
      ],
      "metadata": {
        "id": "g8Hr9CQBqDnF"
      }
    },
    {
      "cell_type": "code",
      "source": [
        "param_grid = {\n",
        "    'n_estimators': [100, 200, 300],\n",
        "    'max_depth': [None, 5, 10],\n",
        "    'min_samples_split': [2, 5, 10],\n",
        "    'min_samples_leaf': [1, 2, 4]\n",
        "}\n",
        "\n",
        "rf_model = RandomForestClassifier()\n",
        "grid_search = GridSearchCV(estimator=rf_model, param_grid=param_grid, cv=5)\n",
        "\n",
        "grid_search.fit(X_train, y_train)\n",
        "best_rf = grid_search.best_estimator_\n",
        "best_params = grid_search.best_params_\n",
        "\n",
        "y_pred = best_rf.predict(X_test)\n",
        "\n",
        "print(\"Best Parameters:\", best_params)\n",
        "print(classification_report(y_test, y_pred))"
      ],
      "metadata": {
        "colab": {
          "base_uri": "https://localhost:8080/"
        },
        "id": "0lrrQR8Cnpub",
        "outputId": "4cff0a15-69d3-4888-844a-aee7dd8e1fbc"
      },
      "execution_count": 39,
      "outputs": [
        {
          "output_type": "stream",
          "name": "stdout",
          "text": [
            "Best Parameters: {'max_depth': None, 'min_samples_leaf': 1, 'min_samples_split': 2, 'n_estimators': 300}\n",
            "              precision    recall  f1-score   support\n",
            "\n",
            "           0       0.86      0.93      0.90       144\n",
            "           1       0.85      0.73      0.79        78\n",
            "\n",
            "    accuracy                           0.86       222\n",
            "   macro avg       0.86      0.83      0.84       222\n",
            "weighted avg       0.86      0.86      0.86       222\n",
            "\n"
          ]
        }
      ]
    },
    {
      "cell_type": "markdown",
      "source": [
        "##b. Support Vector Machine"
      ],
      "metadata": {
        "id": "w9gkz9GCrDqk"
      }
    },
    {
      "cell_type": "code",
      "source": [
        "param_grid = {\n",
        "    'kernel': ['linear', 'poly', 'rbf', 'sigmoid'],\n",
        "    'C': [0.1, 1, 10],\n",
        "    'gamma': [0.1, 1, 10]\n",
        "}\n",
        "\n",
        "svm_model = SVC()\n",
        "grid_search = GridSearchCV(estimator=svm_model, param_grid=param_grid, cv=5)\n",
        "\n",
        "grid_search.fit(X_train, y_train)\n",
        "best_svm = grid_search.best_estimator_\n",
        "best_params = grid_search.best_params_\n",
        "\n",
        "y_pred = best_svm.predict(X_test)\n",
        "\n",
        "print(\"Best Parameters:\", best_params)\n",
        "print(classification_report(y_test, y_pred))"
      ],
      "metadata": {
        "colab": {
          "base_uri": "https://localhost:8080/"
        },
        "id": "xjxkKvJHrIFF",
        "outputId": "9b95001f-a903-4eab-acfd-1464ce17ad60"
      },
      "execution_count": 40,
      "outputs": [
        {
          "output_type": "stream",
          "name": "stdout",
          "text": [
            "Best Parameters: {'C': 10, 'gamma': 0.1, 'kernel': 'linear'}\n",
            "              precision    recall  f1-score   support\n",
            "\n",
            "           0       0.88      0.92      0.90       144\n",
            "           1       0.83      0.77      0.80        78\n",
            "\n",
            "    accuracy                           0.86       222\n",
            "   macro avg       0.86      0.84      0.85       222\n",
            "weighted avg       0.86      0.86      0.86       222\n",
            "\n"
          ]
        }
      ]
    },
    {
      "cell_type": "markdown",
      "source": [
        "##c. AdaBoost"
      ],
      "metadata": {
        "id": "piDzdaPlrMlJ"
      }
    },
    {
      "cell_type": "code",
      "source": [
        "param_grid = {\n",
        "    'n_estimators': [50, 100, 200],\n",
        "    'learning_rate': [0.1, 0.5, 1.0]\n",
        "}\n",
        "\n",
        "adaboost_model = AdaBoostClassifier()\n",
        "grid_search = GridSearchCV(estimator=adaboost_model, param_grid=param_grid, cv=5)\n",
        "\n",
        "grid_search.fit(X_train, y_train)\n",
        "best_ada = grid_search.best_estimator_\n",
        "best_params = grid_search.best_params_\n",
        "\n",
        "y_pred = best_ada.predict(X_test)\n",
        "\n",
        "print(\"Best Parameters:\", best_params)\n",
        "print(classification_report(y_test, y_pred))"
      ],
      "metadata": {
        "colab": {
          "base_uri": "https://localhost:8080/"
        },
        "id": "AkudWtIJmbuM",
        "outputId": "8079adb4-e6df-40c2-e087-c33aeac98de3"
      },
      "execution_count": 41,
      "outputs": [
        {
          "output_type": "stream",
          "name": "stdout",
          "text": [
            "Best Parameters: {'learning_rate': 0.1, 'n_estimators': 100}\n",
            "              precision    recall  f1-score   support\n",
            "\n",
            "           0       0.88      0.93      0.90       144\n",
            "           1       0.86      0.76      0.80        78\n",
            "\n",
            "    accuracy                           0.87       222\n",
            "   macro avg       0.87      0.84      0.85       222\n",
            "weighted avg       0.87      0.87      0.87       222\n",
            "\n"
          ]
        }
      ]
    },
    {
      "cell_type": "markdown",
      "source": [
        "##d. K-nearest Neighbor"
      ],
      "metadata": {
        "id": "nIf87BMwrji9"
      }
    },
    {
      "cell_type": "code",
      "source": [
        "param_grid = {'n_neighbors': [1, 3, 5, 7, 9],\n",
        "              'weights': ['uniform', 'distance'],\n",
        "              'p': [1, 2]}\n",
        "\n",
        "\n",
        "knn_model = KNeighborsClassifier()\n",
        "grid_search = GridSearchCV(estimator=knn_model, param_grid=param_grid, cv=5)\n",
        "\n",
        "grid_search.fit(X_train, y_train)\n",
        "best_knn = grid_search.best_estimator_\n",
        "best_params = grid_search.best_params_\n",
        "\n",
        "\n",
        "y_pred = best_knn.predict(X_test)\n",
        "\n",
        "print(\"Best Parameters:\", best_params)\n",
        "print(classification_report(y_test, y_pred))"
      ],
      "metadata": {
        "colab": {
          "base_uri": "https://localhost:8080/"
        },
        "id": "j3_hw5Aarjvp",
        "outputId": "303d60ab-e1ee-4f56-f269-f619ea63be5e"
      },
      "execution_count": 42,
      "outputs": [
        {
          "output_type": "stream",
          "name": "stdout",
          "text": [
            "Best Parameters: {'n_neighbors': 9, 'p': 1, 'weights': 'uniform'}\n",
            "              precision    recall  f1-score   support\n",
            "\n",
            "           0       0.76      0.94      0.84       144\n",
            "           1       0.82      0.46      0.59        78\n",
            "\n",
            "    accuracy                           0.77       222\n",
            "   macro avg       0.79      0.70      0.72       222\n",
            "weighted avg       0.78      0.77      0.76       222\n",
            "\n"
          ]
        }
      ]
    },
    {
      "cell_type": "markdown",
      "source": [
        "##e. XGBoost"
      ],
      "metadata": {
        "id": "-QEzQkp7rkRW"
      }
    },
    {
      "cell_type": "code",
      "source": [
        "param_grid = {\n",
        "    'learning_rate': [0.1, 0.01, 0.001],\n",
        "    'max_depth': [None, 3, 5, 7],\n",
        "    'n_estimators': [10, 100, 200, 300]\n",
        "}\n",
        "\n",
        "xgb_model = xgb.XGBClassifier()\n",
        "grid_search = GridSearchCV(estimator=xgb_model, param_grid=param_grid, cv=5)\n",
        "\n",
        "grid_search.fit(X_train, y_train)\n",
        "best_xgb = grid_search.best_estimator_\n",
        "best_params = grid_search.best_params_\n",
        "\n",
        "\n",
        "y_pred = best_xgb.predict(X_test)\n",
        "\n",
        "print(\"Best Parameters:\", best_params)\n",
        "print(classification_report(y_test, y_pred))"
      ],
      "metadata": {
        "colab": {
          "base_uri": "https://localhost:8080/"
        },
        "id": "rXxsaPtIrkY7",
        "outputId": "36f7f303-01d8-4185-9b77-63796cf480a4"
      },
      "execution_count": 43,
      "outputs": [
        {
          "output_type": "stream",
          "name": "stdout",
          "text": [
            "Best Parameters: {'learning_rate': 0.1, 'max_depth': 7, 'n_estimators': 100}\n",
            "              precision    recall  f1-score   support\n",
            "\n",
            "           0       0.88      0.90      0.89       144\n",
            "           1       0.81      0.78      0.80        78\n",
            "\n",
            "    accuracy                           0.86       222\n",
            "   macro avg       0.85      0.84      0.85       222\n",
            "weighted avg       0.86      0.86      0.86       222\n",
            "\n"
          ]
        }
      ]
    },
    {
      "cell_type": "markdown",
      "source": [
        "##f. Artificial Neural Network"
      ],
      "metadata": {
        "id": "4Jh2OgPkrkiv"
      }
    },
    {
      "cell_type": "code",
      "source": [
        "def ANN(learning_rate=0.001, dropout_rate=0.3):\n",
        "    model = Sequential()\n",
        "    model.add(Dense(128, activation='relu', input_dim=28))\n",
        "    model.add(Dropout(dropout_rate))\n",
        "    model.add(Dense(64, activation='relu'))\n",
        "    model.add(Dropout(dropout_rate))\n",
        "    model.add(Dense(1, activation='sigmoid'))\n",
        "\n",
        "    optimizer = Adam(learning_rate=learning_rate)\n",
        "\n",
        "    model.compile(optimizer=optimizer, loss='binary_crossentropy', metrics=['accuracy'])\n",
        "    return model\n",
        "\n",
        "# Create and train the model\n",
        "ann_model = ANN()\n",
        "\n",
        "# Define early stopping\n",
        "early_stopping = EarlyStopping(monitor='val_loss', patience=5, restore_best_weights=True)\n",
        "\n",
        "# Train the model with early stopping\n",
        "history = ann_model.fit(\n",
        "    X_train, y_train,\n",
        "    epochs=100,\n",
        "    batch_size=32,\n",
        "    validation_split=0.2,\n",
        "    callbacks=[early_stopping]\n",
        ")\n",
        "\n",
        "\n",
        "# Make predictions on the test set\n",
        "y_pred_prob = ann_model.predict(X_test)\n",
        "y_pred = (y_pred_prob > 0.5).astype(int)\n",
        "\n",
        "print(classification_report(y_test, y_pred))"
      ],
      "metadata": {
        "colab": {
          "base_uri": "https://localhost:8080/"
        },
        "id": "06Yhtr15rkp8",
        "outputId": "860d31b9-3fa1-4989-e9c7-81172085c592"
      },
      "execution_count": 44,
      "outputs": [
        {
          "output_type": "stream",
          "name": "stdout",
          "text": [
            "Epoch 1/100\n",
            "23/23 [==============================] - 2s 14ms/step - loss: 0.6244 - accuracy: 0.6408 - val_loss: 0.5351 - val_accuracy: 0.7360\n",
            "Epoch 2/100\n",
            "23/23 [==============================] - 0s 4ms/step - loss: 0.5514 - accuracy: 0.7296 - val_loss: 0.4726 - val_accuracy: 0.8258\n",
            "Epoch 3/100\n",
            "23/23 [==============================] - 0s 5ms/step - loss: 0.4867 - accuracy: 0.7803 - val_loss: 0.4290 - val_accuracy: 0.8427\n",
            "Epoch 4/100\n",
            "23/23 [==============================] - 0s 5ms/step - loss: 0.4408 - accuracy: 0.8183 - val_loss: 0.3973 - val_accuracy: 0.8427\n",
            "Epoch 5/100\n",
            "23/23 [==============================] - 0s 4ms/step - loss: 0.4329 - accuracy: 0.8085 - val_loss: 0.3798 - val_accuracy: 0.8427\n",
            "Epoch 6/100\n",
            "23/23 [==============================] - 0s 4ms/step - loss: 0.3950 - accuracy: 0.8338 - val_loss: 0.3696 - val_accuracy: 0.8315\n",
            "Epoch 7/100\n",
            "23/23 [==============================] - 0s 5ms/step - loss: 0.3893 - accuracy: 0.8394 - val_loss: 0.3547 - val_accuracy: 0.8315\n",
            "Epoch 8/100\n",
            "23/23 [==============================] - 0s 4ms/step - loss: 0.3693 - accuracy: 0.8310 - val_loss: 0.3602 - val_accuracy: 0.8315\n",
            "Epoch 9/100\n",
            "23/23 [==============================] - 0s 4ms/step - loss: 0.3719 - accuracy: 0.8451 - val_loss: 0.3455 - val_accuracy: 0.8258\n",
            "Epoch 10/100\n",
            "23/23 [==============================] - 0s 5ms/step - loss: 0.3568 - accuracy: 0.8507 - val_loss: 0.3500 - val_accuracy: 0.8371\n",
            "Epoch 11/100\n",
            "23/23 [==============================] - 0s 4ms/step - loss: 0.3551 - accuracy: 0.8563 - val_loss: 0.3467 - val_accuracy: 0.8258\n",
            "Epoch 12/100\n",
            "23/23 [==============================] - 0s 4ms/step - loss: 0.3179 - accuracy: 0.8873 - val_loss: 0.3486 - val_accuracy: 0.8315\n",
            "Epoch 13/100\n",
            "23/23 [==============================] - 0s 5ms/step - loss: 0.3448 - accuracy: 0.8676 - val_loss: 0.3490 - val_accuracy: 0.8202\n",
            "Epoch 14/100\n",
            "23/23 [==============================] - 0s 5ms/step - loss: 0.3355 - accuracy: 0.8732 - val_loss: 0.3532 - val_accuracy: 0.8371\n",
            "7/7 [==============================] - 0s 2ms/step\n",
            "              precision    recall  f1-score   support\n",
            "\n",
            "           0       0.86      0.91      0.89       144\n",
            "           1       0.81      0.73      0.77        78\n",
            "\n",
            "    accuracy                           0.85       222\n",
            "   macro avg       0.84      0.82      0.83       222\n",
            "weighted avg       0.85      0.85      0.84       222\n",
            "\n"
          ]
        }
      ]
    },
    {
      "cell_type": "markdown",
      "source": [
        "##g. Voting Classifier"
      ],
      "metadata": {
        "id": "_kq3dMx5Mec3"
      }
    },
    {
      "cell_type": "markdown",
      "source": [
        "###Hard Voting"
      ],
      "metadata": {
        "id": "0sRUXlrcMejc"
      }
    },
    {
      "cell_type": "code",
      "source": [
        "vc_hard = VotingClassifier([\n",
        "    ('svm', SVC(C=1, gamma=0.1, kernel='linear',probability=True)),\n",
        "    ('xgboost', xgb.XGBClassifier(learning_rate=0.1, max_depth=None, n_estimators=100)),\n",
        "    ('adaboost', AdaBoostClassifier(learning_rate=0.1, n_estimators=100)),\n",
        "    ('randomforest', RandomForestClassifier(max_depth=None, min_samples_leaf=1, min_samples_split=5, n_estimators=300))\n",
        "], voting='hard')\n",
        "\n",
        "vc_hard.fit(X_train, y_train)\n",
        "y_pred = vc_hard.predict(X_test)\n",
        "\n",
        "classification_rep = classification_report(y_test, y_pred)\n",
        "conf_matrix = confusion_matrix(y_test, y_pred)\n",
        "\n",
        "print(\"\\nClassification Report:\\n\", classification_rep)"
      ],
      "metadata": {
        "colab": {
          "base_uri": "https://localhost:8080/"
        },
        "id": "dnm_q8u4MfH8",
        "outputId": "8cc92f36-46f0-4875-e962-7806c48325ad"
      },
      "execution_count": 45,
      "outputs": [
        {
          "output_type": "stream",
          "name": "stdout",
          "text": [
            "\n",
            "Classification Report:\n",
            "               precision    recall  f1-score   support\n",
            "\n",
            "           0       0.88      0.93      0.91       144\n",
            "           1       0.86      0.77      0.81        78\n",
            "\n",
            "    accuracy                           0.87       222\n",
            "   macro avg       0.87      0.85      0.86       222\n",
            "weighted avg       0.87      0.87      0.87       222\n",
            "\n"
          ]
        }
      ]
    },
    {
      "cell_type": "code",
      "source": [
        "plt.figure(figsize=(8, 6))\n",
        "sns.heatmap(conf_matrix, annot=True, fmt=\"d\", cmap=\"Blues\", cbar=False)\n",
        "plt.title('Confusion Matrix for Soft Voting')\n",
        "plt.xlabel('Predicted Labels')\n",
        "plt.ylabel('True Labels')\n",
        "plt.show()"
      ],
      "metadata": {
        "colab": {
          "base_uri": "https://localhost:8080/",
          "height": 564
        },
        "id": "vo-0MTGrMfLn",
        "outputId": "c7a47af5-637f-4cdf-caa0-e044a23abe00"
      },
      "execution_count": 46,
      "outputs": [
        {
          "output_type": "display_data",
          "data": {
            "text/plain": [
              "<Figure size 800x600 with 1 Axes>"
            ],
            "image/png": "[encoded data removed]"
          },
          "metadata": {}
        }
      ]
    },
    {
      "cell_type": "markdown",
      "source": [
        "###Soft Voting"
      ],
      "metadata": {
        "id": "XXZWOL8wMfVH"
      }
    },
    {
      "cell_type": "code",
      "source": [
        "vc_soft = VotingClassifier([\n",
        "    ('svm', SVC(C=1, gamma=0.1, kernel='linear',probability=True)),\n",
        "    ('adaboost', AdaBoostClassifier(learning_rate=0.1, n_estimators=100)),\n",
        "    ('xgboost', xgb.XGBClassifier(learning_rate=0.1, max_depth=None, n_estimators=100)),\n",
        "    ('randomforest', RandomForestClassifier(max_depth=None, min_samples_leaf=1, min_samples_split=5, n_estimators=300))\n",
        "], voting='soft')\n",
        "\n",
        "vc_soft.fit(X_train, y_train)\n",
        "y_pred = vc_soft.predict(X_test)\n",
        "\n",
        "classification_rep = classification_report(y_test, y_pred)\n",
        "conf_matrix = confusion_matrix(y_test, y_pred)\n",
        "\n",
        "print(\"\\nClassification Report:\\n\", classification_rep)"
      ],
      "metadata": {
        "colab": {
          "base_uri": "https://localhost:8080/"
        },
        "id": "6_I9utVYMfee",
        "outputId": "9270f61e-1695-415b-9eb1-a1bdf1b11a58"
      },
      "execution_count": 47,
      "outputs": [
        {
          "output_type": "stream",
          "name": "stdout",
          "text": [
            "\n",
            "Classification Report:\n",
            "               precision    recall  f1-score   support\n",
            "\n",
            "           0       0.89      0.92      0.90       144\n",
            "           1       0.85      0.78      0.81        78\n",
            "\n",
            "    accuracy                           0.87       222\n",
            "   macro avg       0.87      0.85      0.86       222\n",
            "weighted avg       0.87      0.87      0.87       222\n",
            "\n"
          ]
        }
      ]
    },
    {
      "cell_type": "code",
      "source": [
        "plt.figure(figsize=(8, 6))\n",
        "sns.heatmap(conf_matrix, annot=True, fmt=\"d\", cmap=\"Blues\", cbar=False)\n",
        "plt.title('Confusion Matrix for Soft Voting')\n",
        "plt.xlabel('Predicted Labels')\n",
        "plt.ylabel('True Labels')\n",
        "plt.show()"
      ],
      "metadata": {
        "colab": {
          "base_uri": "https://localhost:8080/",
          "height": 564
        },
        "id": "5e9916bgMfhX",
        "outputId": "e713826f-5bd8-4bb0-d11e-b302f96e7dae"
      },
      "execution_count": 48,
      "outputs": [
        {
          "output_type": "display_data",
          "data": {
            "text/plain": [
              "<Figure size 800x600 with 1 Axes>"
            ],
            "image/png": "[encoded data removed]"
          },
          "metadata": {}
        }
      ]
    },
    {
      "cell_type": "markdown",
      "source": [
        "#5. Model Training and Evaluation (downsampled df)"
      ],
      "metadata": {
        "id": "LI_q1XtUnknq"
      }
    },
    {
      "cell_type": "code",
      "source": [
        "X = dfun.drop(['Overall Survival Status'], axis = 1)\n",
        "y = dfun['Overall Survival Status']"
      ],
      "metadata": {
        "id": "5-_RalBE0wI-"
      },
      "execution_count": null,
      "outputs": []
    },
    {
      "cell_type": "code",
      "source": [
        "scaler = StandardScaler()\n",
        "X = scaler.fit_transform(X)"
      ],
      "metadata": {
        "id": "bXA9ejo-0wNU"
      },
      "execution_count": null,
      "outputs": []
    },
    {
      "cell_type": "code",
      "source": [
        "X_train, X_test, y_train, y_test = train_test_split(X, y, test_size=0.2, random_state=1)"
      ],
      "metadata": {
        "id": "vHY--GDB1Asi"
      },
      "execution_count": null,
      "outputs": []
    },
    {
      "cell_type": "markdown",
      "source": [
        "##a. Random Forest"
      ],
      "metadata": {
        "id": "9u6jIup01UjU"
      }
    },
    {
      "cell_type": "code",
      "source": [
        "param_grid = {\n",
        "    'n_estimators': [100, 200, 300],\n",
        "    'max_depth': [None, 5, 10],\n",
        "    'min_samples_split': [2, 5, 10],\n",
        "    'min_samples_leaf': [1, 2, 4]\n",
        "}\n",
        "\n",
        "rf_model = RandomForestClassifier()\n",
        "grid_search = GridSearchCV(estimator=rf_model, param_grid=param_grid, cv=5)\n",
        "\n",
        "grid_search.fit(X_train, y_train)\n",
        "best_rf = grid_search.best_estimator_\n",
        "best_params = grid_search.best_params_\n",
        "\n",
        "y_pred = best_rf.predict(X_test)\n",
        "\n",
        "print(\"Best Parameters:\", best_params)\n",
        "print(classification_report(y_test, y_pred))"
      ],
      "metadata": {
        "colab": {
          "base_uri": "https://localhost:8080/"
        },
        "id": "VnuezDYp1Uv1",
        "outputId": "7775413a-e00d-40aa-bd4e-ff4aba83b0d2"
      },
      "execution_count": null,
      "outputs": [
        {
          "output_type": "stream",
          "name": "stdout",
          "text": [
            "Best Parameters: {'max_depth': None, 'min_samples_leaf': 1, 'min_samples_split': 5, 'n_estimators': 300}\n",
            "              precision    recall  f1-score   support\n",
            "\n",
            "           0       0.84      0.88      0.86        75\n",
            "           1       0.89      0.85      0.87        84\n",
            "\n",
            "    accuracy                           0.86       159\n",
            "   macro avg       0.86      0.86      0.86       159\n",
            "weighted avg       0.86      0.86      0.86       159\n",
            "\n"
          ]
        }
      ]
    },
    {
      "cell_type": "markdown",
      "source": [
        "##b. Support Vector Machine"
      ],
      "metadata": {
        "id": "he1roYk31U3b"
      }
    },
    {
      "cell_type": "code",
      "source": [
        "param_grid = {\n",
        "    'kernel': ['linear', 'poly', 'rbf', 'sigmoid'],\n",
        "    'C': [0.1, 1, 10],\n",
        "    'gamma': [0.1, 1, 10]\n",
        "}\n",
        "\n",
        "svm_model = SVC()\n",
        "grid_search = GridSearchCV(estimator=svm_model, param_grid=param_grid, cv=5)\n",
        "\n",
        "grid_search.fit(X_train, y_train)\n",
        "best_svm = grid_search.best_estimator_\n",
        "best_params = grid_search.best_params_\n",
        "\n",
        "y_pred = best_svm.predict(X_test)\n",
        "\n",
        "print(\"Best Parameters:\", best_params)\n",
        "print(classification_report(y_test, y_pred))"
      ],
      "metadata": {
        "colab": {
          "base_uri": "https://localhost:8080/"
        },
        "id": "xRcnhf0o1U-u",
        "outputId": "0c457f59-840b-4ae4-f822-77a6cd83f065"
      },
      "execution_count": null,
      "outputs": [
        {
          "output_type": "stream",
          "name": "stdout",
          "text": [
            "Best Parameters: {'C': 1, 'gamma': 0.1, 'kernel': 'linear'}\n",
            "              precision    recall  f1-score   support\n",
            "\n",
            "           0       0.86      0.88      0.87        75\n",
            "           1       0.89      0.87      0.88        84\n",
            "\n",
            "    accuracy                           0.87       159\n",
            "   macro avg       0.87      0.87      0.87       159\n",
            "weighted avg       0.87      0.87      0.87       159\n",
            "\n"
          ]
        }
      ]
    },
    {
      "cell_type": "markdown",
      "source": [
        "##c. AdaBoost"
      ],
      "metadata": {
        "id": "4c004RAf1VFY"
      }
    },
    {
      "cell_type": "code",
      "source": [
        "param_grid = {\n",
        "    'n_estimators': [50, 100, 200],\n",
        "    'learning_rate': [0.1, 0.5, 1.0]\n",
        "}\n",
        "\n",
        "adaboost_model = AdaBoostClassifier()\n",
        "grid_search = GridSearchCV(estimator=adaboost_model, param_grid=param_grid, cv=5)\n",
        "\n",
        "grid_search.fit(X_train, y_train)\n",
        "best_ada = grid_search.best_estimator_\n",
        "best_params = grid_search.best_params_\n",
        "\n",
        "y_pred = best_ada.predict(X_test)\n",
        "\n",
        "print(\"Best Parameters:\", best_params)\n",
        "print(classification_report(y_test, y_pred))"
      ],
      "metadata": {
        "colab": {
          "base_uri": "https://localhost:8080/"
        },
        "id": "H2Iu_dzQ1VMP",
        "outputId": "19fb7c33-4c5d-43ad-d903-be6f477d6e17"
      },
      "execution_count": null,
      "outputs": [
        {
          "output_type": "stream",
          "name": "stdout",
          "text": [
            "Best Parameters: {'learning_rate': 0.1, 'n_estimators': 100}\n",
            "              precision    recall  f1-score   support\n",
            "\n",
            "           0       0.86      0.91      0.88        75\n",
            "           1       0.91      0.87      0.89        84\n",
            "\n",
            "    accuracy                           0.89       159\n",
            "   macro avg       0.89      0.89      0.89       159\n",
            "weighted avg       0.89      0.89      0.89       159\n",
            "\n"
          ]
        }
      ]
    },
    {
      "cell_type": "markdown",
      "source": [
        "##d. K-nearest Neighbor"
      ],
      "metadata": {
        "id": "I-IhQLSx1VS-"
      }
    },
    {
      "cell_type": "code",
      "source": [
        "param_grid = {'n_neighbors': [1, 3, 5, 7, 9],\n",
        "              'weights': ['uniform', 'distance'],\n",
        "              'p': [1, 2]}\n",
        "\n",
        "\n",
        "knn_model = KNeighborsClassifier()\n",
        "grid_search = GridSearchCV(estimator=knn_model, param_grid=param_grid, cv=5)\n",
        "\n",
        "grid_search.fit(X_train, y_train)\n",
        "best_knn = grid_search.best_estimator_\n",
        "best_params = grid_search.best_params_\n",
        "\n",
        "\n",
        "y_pred = best_knn.predict(X_test)\n",
        "\n",
        "print(\"Best Parameters:\", best_params)\n",
        "print(classification_report(y_test, y_pred))"
      ],
      "metadata": {
        "colab": {
          "base_uri": "https://localhost:8080/"
        },
        "id": "Bb9X0hce1VaA",
        "outputId": "16382294-8beb-4397-8bd8-1c06640804d6"
      },
      "execution_count": null,
      "outputs": [
        {
          "output_type": "stream",
          "name": "stdout",
          "text": [
            "Best Parameters: {'n_neighbors': 7, 'p': 1, 'weights': 'uniform'}\n",
            "              precision    recall  f1-score   support\n",
            "\n",
            "           0       0.74      0.77      0.76        75\n",
            "           1       0.79      0.76      0.78        84\n",
            "\n",
            "    accuracy                           0.77       159\n",
            "   macro avg       0.77      0.77      0.77       159\n",
            "weighted avg       0.77      0.77      0.77       159\n",
            "\n"
          ]
        }
      ]
    },
    {
      "cell_type": "markdown",
      "source": [
        "##e. XGBoost"
      ],
      "metadata": {
        "id": "SDUtxWHG1VhG"
      }
    },
    {
      "cell_type": "code",
      "source": [
        "param_grid = {\n",
        "    'learning_rate': [0.1, 0.01, 0.001],\n",
        "    'max_depth': [None, 3, 5, 7],\n",
        "    'n_estimators': [10, 100, 200, 300]\n",
        "}\n",
        "\n",
        "xgb_model = xgb.XGBClassifier()\n",
        "grid_search = GridSearchCV(estimator=xgb_model, param_grid=param_grid, cv=5)\n",
        "\n",
        "grid_search.fit(X_train, y_train)\n",
        "best_xgb = grid_search.best_estimator_\n",
        "best_params = grid_search.best_params_\n",
        "\n",
        "\n",
        "y_pred = best_xgb.predict(X_test)\n",
        "\n",
        "print(\"Best Parameters:\", best_params)\n",
        "print(classification_report(y_test, y_pred))"
      ],
      "metadata": {
        "colab": {
          "base_uri": "https://localhost:8080/"
        },
        "id": "fxJZTlFq1Vny",
        "outputId": "be3dab69-d1a1-4ddf-e929-9cd74a6b0f16"
      },
      "execution_count": null,
      "outputs": [
        {
          "output_type": "stream",
          "name": "stdout",
          "text": [
            "Best Parameters: {'learning_rate': 0.1, 'max_depth': None, 'n_estimators': 100}\n",
            "              precision    recall  f1-score   support\n",
            "\n",
            "           0       0.84      0.89      0.86        75\n",
            "           1       0.90      0.85      0.87        84\n",
            "\n",
            "    accuracy                           0.87       159\n",
            "   macro avg       0.87      0.87      0.87       159\n",
            "weighted avg       0.87      0.87      0.87       159\n",
            "\n"
          ]
        }
      ]
    },
    {
      "cell_type": "markdown",
      "source": [
        "##f. Convolutional Neural Network"
      ],
      "metadata": {
        "id": "V9BcTq5E1VvJ"
      }
    },
    {
      "cell_type": "code",
      "source": [
        "def ANN(learning_rate=0.001, dropout_rate=0.3):\n",
        "    model = Sequential()\n",
        "    model.add(Dense(128, activation='relu', input_dim=28))\n",
        "    model.add(Dropout(dropout_rate))\n",
        "    model.add(Dense(64, activation='relu'))\n",
        "    model.add(Dropout(dropout_rate))\n",
        "    model.add(Dense(1, activation='sigmoid'))\n",
        "\n",
        "    optimizer = Adam(learning_rate=learning_rate)\n",
        "\n",
        "    model.compile(optimizer=optimizer, loss='binary_crossentropy', metrics=['accuracy'])\n",
        "    return model\n",
        "\n",
        "# Create and train the model\n",
        "ann_model = ANN()\n",
        "\n",
        "# Define early stopping\n",
        "early_stopping = EarlyStopping(monitor='val_loss', patience=5, restore_best_weights=True)\n",
        "\n",
        "# Train the model with early stopping\n",
        "history = ann_model.fit(\n",
        "    X_train, y_train,\n",
        "    epochs=100,\n",
        "    batch_size=32,\n",
        "    validation_split=0.2,\n",
        "    callbacks=[early_stopping]\n",
        ")\n",
        "\n",
        "\n",
        "# Make predictions on the test set\n",
        "y_pred_prob = ann_model.predict(X_test)\n",
        "y_pred = (y_pred_prob > 0.5).astype(int)\n",
        "\n",
        "print(classification_report(y_test, y_pred))"
      ],
      "metadata": {
        "colab": {
          "base_uri": "https://localhost:8080/"
        },
        "id": "2sG0TeHk1V2n",
        "outputId": "8900aa61-14bb-4c7f-fcc7-d84977105935"
      },
      "execution_count": null,
      "outputs": [
        {
          "output_type": "stream",
          "name": "stdout",
          "text": [
            "Epoch 1/100\n",
            "16/16 [==============================] - 1s 14ms/step - loss: 0.7151 - accuracy: 0.4980 - val_loss: 0.6554 - val_accuracy: 0.6457\n",
            "Epoch 2/100\n",
            "16/16 [==============================] - 0s 3ms/step - loss: 0.6197 - accuracy: 0.6660 - val_loss: 0.5907 - val_accuracy: 0.7323\n",
            "Epoch 3/100\n",
            "16/16 [==============================] - 0s 4ms/step - loss: 0.5705 - accuracy: 0.7372 - val_loss: 0.5368 - val_accuracy: 0.7559\n",
            "Epoch 4/100\n",
            "16/16 [==============================] - 0s 5ms/step - loss: 0.5076 - accuracy: 0.7747 - val_loss: 0.4936 - val_accuracy: 0.7717\n",
            "Epoch 5/100\n",
            "16/16 [==============================] - 0s 5ms/step - loss: 0.4856 - accuracy: 0.7885 - val_loss: 0.4653 - val_accuracy: 0.7874\n",
            "Epoch 6/100\n",
            "16/16 [==============================] - 0s 4ms/step - loss: 0.4793 - accuracy: 0.7905 - val_loss: 0.4468 - val_accuracy: 0.7874\n",
            "Epoch 7/100\n",
            "16/16 [==============================] - 0s 4ms/step - loss: 0.4285 - accuracy: 0.7846 - val_loss: 0.4274 - val_accuracy: 0.8031\n",
            "Epoch 8/100\n",
            "16/16 [==============================] - 0s 3ms/step - loss: 0.4109 - accuracy: 0.8241 - val_loss: 0.4102 - val_accuracy: 0.8110\n",
            "Epoch 9/100\n",
            "16/16 [==============================] - 0s 4ms/step - loss: 0.3892 - accuracy: 0.8123 - val_loss: 0.3997 - val_accuracy: 0.8189\n",
            "Epoch 10/100\n",
            "16/16 [==============================] - 0s 5ms/step - loss: 0.3816 - accuracy: 0.8439 - val_loss: 0.3926 - val_accuracy: 0.8110\n",
            "Epoch 11/100\n",
            "16/16 [==============================] - 0s 3ms/step - loss: 0.3618 - accuracy: 0.8458 - val_loss: 0.3788 - val_accuracy: 0.8189\n",
            "Epoch 12/100\n",
            "16/16 [==============================] - 0s 5ms/step - loss: 0.3539 - accuracy: 0.8320 - val_loss: 0.3848 - val_accuracy: 0.8031\n",
            "Epoch 13/100\n",
            "16/16 [==============================] - 0s 3ms/step - loss: 0.3499 - accuracy: 0.8557 - val_loss: 0.3844 - val_accuracy: 0.8031\n",
            "Epoch 14/100\n",
            "16/16 [==============================] - 0s 5ms/step - loss: 0.3382 - accuracy: 0.8518 - val_loss: 0.3837 - val_accuracy: 0.8110\n",
            "Epoch 15/100\n",
            "16/16 [==============================] - 0s 4ms/step - loss: 0.3358 - accuracy: 0.8696 - val_loss: 0.3748 - val_accuracy: 0.8268\n",
            "Epoch 16/100\n",
            "16/16 [==============================] - 0s 4ms/step - loss: 0.3405 - accuracy: 0.8399 - val_loss: 0.3673 - val_accuracy: 0.8268\n",
            "Epoch 17/100\n",
            "16/16 [==============================] - 0s 3ms/step - loss: 0.3301 - accuracy: 0.8577 - val_loss: 0.3741 - val_accuracy: 0.8268\n",
            "Epoch 18/100\n",
            "16/16 [==============================] - 0s 5ms/step - loss: 0.2928 - accuracy: 0.8735 - val_loss: 0.3728 - val_accuracy: 0.8189\n",
            "Epoch 19/100\n",
            "16/16 [==============================] - 0s 4ms/step - loss: 0.3046 - accuracy: 0.8814 - val_loss: 0.3701 - val_accuracy: 0.8189\n",
            "Epoch 20/100\n",
            "16/16 [==============================] - 0s 5ms/step - loss: 0.2842 - accuracy: 0.8775 - val_loss: 0.3813 - val_accuracy: 0.8268\n",
            "Epoch 21/100\n",
            "16/16 [==============================] - 0s 3ms/step - loss: 0.2825 - accuracy: 0.8933 - val_loss: 0.3792 - val_accuracy: 0.8346\n",
            "5/5 [==============================] - 0s 3ms/step\n",
            "              precision    recall  f1-score   support\n",
            "\n",
            "           0       0.86      0.84      0.85        75\n",
            "           1       0.86      0.88      0.87        84\n",
            "\n",
            "    accuracy                           0.86       159\n",
            "   macro avg       0.86      0.86      0.86       159\n",
            "weighted avg       0.86      0.86      0.86       159\n",
            "\n"
          ]
        }
      ]
    },
    {
      "cell_type": "markdown",
      "source": [
        "##g. Voting Classifier"
      ],
      "metadata": {
        "id": "GufdHcdM2hUF"
      }
    },
    {
      "cell_type": "markdown",
      "source": [
        "###Hard Voting"
      ],
      "metadata": {
        "id": "p4ezfQAB8F0-"
      }
    },
    {
      "cell_type": "code",
      "source": [
        "vc_hard = VotingClassifier([\n",
        "    ('svm', SVC(C=1, gamma=0.1, kernel='linear',probability=True)),\n",
        "    ('xgboost', xgb.XGBClassifier(learning_rate=0.1, max_depth=None, n_estimators=100)),\n",
        "    ('adaboost', AdaBoostClassifier(learning_rate=0.1, n_estimators=100)),\n",
        "    ('randomforest', RandomForestClassifier(max_depth=None, min_samples_leaf=1, min_samples_split=5, n_estimators=300))\n",
        "], voting='hard')\n",
        "\n",
        "vc_hard.fit(X_train, y_train)\n",
        "y_pred = vc_hard.predict(X_test)\n",
        "\n",
        "classification_rep = classification_report(y_test, y_pred)\n",
        "conf_matrix = confusion_matrix(y_test, y_pred)\n",
        "\n",
        "print(\"\\nClassification Report:\\n\", classification_rep)"
      ],
      "metadata": {
        "colab": {
          "base_uri": "https://localhost:8080/"
        },
        "id": "-8j4GwjF8E1X",
        "outputId": "fb92d8af-6762-4e67-8335-71df8046ebbd"
      },
      "execution_count": null,
      "outputs": [
        {
          "output_type": "stream",
          "name": "stdout",
          "text": [
            "\n",
            "Classification Report:\n",
            "               precision    recall  f1-score   support\n",
            "\n",
            "           0       0.88      0.91      0.89        75\n",
            "           1       0.91      0.89      0.90        84\n",
            "\n",
            "    accuracy                           0.90       159\n",
            "   macro avg       0.90      0.90      0.90       159\n",
            "weighted avg       0.90      0.90      0.90       159\n",
            "\n"
          ]
        }
      ]
    },
    {
      "cell_type": "code",
      "source": [
        "plt.figure(figsize=(8, 6))\n",
        "sns.heatmap(conf_matrix, annot=True, fmt=\"d\", cmap=\"Blues\", cbar=False)\n",
        "plt.title('Confusion Matrix for Soft Voting')\n",
        "plt.xlabel('Predicted Labels')\n",
        "plt.ylabel('True Labels')\n",
        "plt.show()"
      ],
      "metadata": {
        "colab": {
          "base_uri": "https://localhost:8080/",
          "height": 564
        },
        "id": "LUUBsEa29ulI",
        "outputId": "9d7fefb2-728e-42cc-f84f-1c021b148ab0"
      },
      "execution_count": null,
      "outputs": [
        {
          "output_type": "display_data",
          "data": {
            "text/plain": [
              "<Figure size 800x600 with 1 Axes>"
            ],
            "image/png": "[encoded data removed]"
          },
          "metadata": {}
        }
      ]
    },
    {
      "cell_type": "markdown",
      "source": [
        "###Soft Voting"
      ],
      "metadata": {
        "id": "7CCde5Nm6ECH"
      }
    },
    {
      "cell_type": "code",
      "source": [
        "vc_soft = VotingClassifier([\n",
        "    ('svm', SVC(C=1, gamma=0.1, kernel='linear',probability=True)),\n",
        "    ('adaboost', AdaBoostClassifier(learning_rate=0.1, n_estimators=100)),\n",
        "    ('xgboost', xgb.XGBClassifier(learning_rate=0.1, max_depth=None, n_estimators=100)),\n",
        "    ('randomforest', RandomForestClassifier(max_depth=None, min_samples_leaf=1, min_samples_split=5, n_estimators=300))\n",
        "], voting='soft')\n",
        "\n",
        "vc_soft.fit(X_train, y_train)\n",
        "y_pred = vc_soft.predict(X_test)\n",
        "\n",
        "classification_rep = classification_report(y_test, y_pred)\n",
        "conf_matrix = confusion_matrix(y_test, y_pred)\n",
        "\n",
        "print(\"\\nClassification Report:\\n\", classification_rep)"
      ],
      "metadata": {
        "colab": {
          "base_uri": "https://localhost:8080/"
        },
        "id": "fDdt_lI82gxY",
        "outputId": "995cb810-ddef-4b94-e57a-73ea056bb842"
      },
      "execution_count": null,
      "outputs": [
        {
          "output_type": "stream",
          "name": "stdout",
          "text": [
            "\n",
            "Classification Report:\n",
            "               precision    recall  f1-score   support\n",
            "\n",
            "           0       0.87      0.91      0.89        75\n",
            "           1       0.91      0.88      0.90        84\n",
            "\n",
            "    accuracy                           0.89       159\n",
            "   macro avg       0.89      0.89      0.89       159\n",
            "weighted avg       0.89      0.89      0.89       159\n",
            "\n"
          ]
        }
      ]
    },
    {
      "cell_type": "code",
      "source": [
        "plt.figure(figsize=(8, 6))\n",
        "sns.heatmap(conf_matrix, annot=True, fmt=\"d\", cmap=\"Blues\", cbar=False)\n",
        "plt.title('Confusion Matrix for Soft Voting')\n",
        "plt.xlabel('Predicted Labels')\n",
        "plt.ylabel('True Labels')\n",
        "plt.show()"
      ],
      "metadata": {
        "colab": {
          "base_uri": "https://localhost:8080/",
          "height": 564
        },
        "id": "41c0JI8_6IRy",
        "outputId": "c251d5ed-8eaa-4fdd-82bd-15864684e799"
      },
      "execution_count": null,
      "outputs": [
        {
          "output_type": "display_data",
          "data": {
            "text/plain": [
              "<Figure size 800x600 with 1 Axes>"
            ],
            "image/png": "[encoded data removed]"
          },
          "metadata": {}
        }
      ]
    }
  ]
}